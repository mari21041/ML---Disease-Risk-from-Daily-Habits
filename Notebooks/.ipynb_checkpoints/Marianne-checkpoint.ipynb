{
 "cells": [
  {
   "cell_type": "code",
   "execution_count": 6,
   "id": "847d7b9e-63e9-405f-aacd-d33d4e59763f",
   "metadata": {},
   "outputs": [
    {
     "data": {
      "text/html": [
       "<div>\n",
       "<style scoped>\n",
       "    .dataframe tbody tr th:only-of-type {\n",
       "        vertical-align: middle;\n",
       "    }\n",
       "\n",
       "    .dataframe tbody tr th {\n",
       "        vertical-align: top;\n",
       "    }\n",
       "\n",
       "    .dataframe thead th {\n",
       "        text-align: right;\n",
       "    }\n",
       "</style>\n",
       "<table border=\"1\" class=\"dataframe\">\n",
       "  <thead>\n",
       "    <tr style=\"text-align: right;\">\n",
       "      <th></th>\n",
       "      <th>survey_code</th>\n",
       "      <th>age</th>\n",
       "      <th>gender</th>\n",
       "      <th>height</th>\n",
       "      <th>weight</th>\n",
       "      <th>bmi</th>\n",
       "      <th>bmi_estimated</th>\n",
       "      <th>bmi_scaled</th>\n",
       "      <th>bmi_corrected</th>\n",
       "      <th>waist_size</th>\n",
       "      <th>...</th>\n",
       "      <th>sunlight_exposure</th>\n",
       "      <th>meals_per_day</th>\n",
       "      <th>caffeine_intake</th>\n",
       "      <th>family_history</th>\n",
       "      <th>pet_owner</th>\n",
       "      <th>electrolyte_level</th>\n",
       "      <th>gene_marker_flag</th>\n",
       "      <th>environmental_risk_score</th>\n",
       "      <th>daily_supplement_dosage</th>\n",
       "      <th>target</th>\n",
       "    </tr>\n",
       "  </thead>\n",
       "  <tbody>\n",
       "    <tr>\n",
       "      <th>0</th>\n",
       "      <td>1</td>\n",
       "      <td>56</td>\n",
       "      <td>Male</td>\n",
       "      <td>173.416872</td>\n",
       "      <td>56.886640</td>\n",
       "      <td>18.915925</td>\n",
       "      <td>18.915925</td>\n",
       "      <td>56.747776</td>\n",
       "      <td>18.989117</td>\n",
       "      <td>72.165130</td>\n",
       "      <td>...</td>\n",
       "      <td>High</td>\n",
       "      <td>5</td>\n",
       "      <td>Moderate</td>\n",
       "      <td>No</td>\n",
       "      <td>Yes</td>\n",
       "      <td>0</td>\n",
       "      <td>1.0</td>\n",
       "      <td>5.5</td>\n",
       "      <td>-2.275502</td>\n",
       "      <td>healthy</td>\n",
       "    </tr>\n",
       "    <tr>\n",
       "      <th>1</th>\n",
       "      <td>2</td>\n",
       "      <td>69</td>\n",
       "      <td>Female</td>\n",
       "      <td>163.207380</td>\n",
       "      <td>97.799859</td>\n",
       "      <td>36.716278</td>\n",
       "      <td>36.716278</td>\n",
       "      <td>110.148833</td>\n",
       "      <td>36.511417</td>\n",
       "      <td>85.598889</td>\n",
       "      <td>...</td>\n",
       "      <td>High</td>\n",
       "      <td>5</td>\n",
       "      <td>High</td>\n",
       "      <td>Yes</td>\n",
       "      <td>No</td>\n",
       "      <td>0</td>\n",
       "      <td>1.0</td>\n",
       "      <td>5.5</td>\n",
       "      <td>6.239340</td>\n",
       "      <td>healthy</td>\n",
       "    </tr>\n",
       "    <tr>\n",
       "      <th>2</th>\n",
       "      <td>3</td>\n",
       "      <td>46</td>\n",
       "      <td>Male</td>\n",
       "      <td>177.281966</td>\n",
       "      <td>80.687562</td>\n",
       "      <td>25.673050</td>\n",
       "      <td>25.673050</td>\n",
       "      <td>77.019151</td>\n",
       "      <td>25.587429</td>\n",
       "      <td>90.295030</td>\n",
       "      <td>...</td>\n",
       "      <td>High</td>\n",
       "      <td>4</td>\n",
       "      <td>Moderate</td>\n",
       "      <td>No</td>\n",
       "      <td>No</td>\n",
       "      <td>0</td>\n",
       "      <td>1.0</td>\n",
       "      <td>5.5</td>\n",
       "      <td>5.423737</td>\n",
       "      <td>healthy</td>\n",
       "    </tr>\n",
       "    <tr>\n",
       "      <th>3</th>\n",
       "      <td>4</td>\n",
       "      <td>32</td>\n",
       "      <td>Female</td>\n",
       "      <td>172.101255</td>\n",
       "      <td>63.142868</td>\n",
       "      <td>21.318480</td>\n",
       "      <td>21.318480</td>\n",
       "      <td>63.955440</td>\n",
       "      <td>21.177109</td>\n",
       "      <td>100.504211</td>\n",
       "      <td>...</td>\n",
       "      <td>High</td>\n",
       "      <td>1</td>\n",
       "      <td>NaN</td>\n",
       "      <td>No</td>\n",
       "      <td>Yes</td>\n",
       "      <td>0</td>\n",
       "      <td>1.0</td>\n",
       "      <td>5.5</td>\n",
       "      <td>8.388611</td>\n",
       "      <td>healthy</td>\n",
       "    </tr>\n",
       "    <tr>\n",
       "      <th>4</th>\n",
       "      <td>5</td>\n",
       "      <td>60</td>\n",
       "      <td>Female</td>\n",
       "      <td>163.608816</td>\n",
       "      <td>40.000000</td>\n",
       "      <td>14.943302</td>\n",
       "      <td>14.943302</td>\n",
       "      <td>44.829907</td>\n",
       "      <td>14.844299</td>\n",
       "      <td>69.021150</td>\n",
       "      <td>...</td>\n",
       "      <td>High</td>\n",
       "      <td>1</td>\n",
       "      <td>High</td>\n",
       "      <td>Yes</td>\n",
       "      <td>Yes</td>\n",
       "      <td>0</td>\n",
       "      <td>1.0</td>\n",
       "      <td>5.5</td>\n",
       "      <td>0.332622</td>\n",
       "      <td>healthy</td>\n",
       "    </tr>\n",
       "  </tbody>\n",
       "</table>\n",
       "<p>5 rows × 48 columns</p>\n",
       "</div>"
      ],
      "text/plain": [
       "   survey_code  age  gender      height     weight        bmi  bmi_estimated  \\\n",
       "0            1   56    Male  173.416872  56.886640  18.915925      18.915925   \n",
       "1            2   69  Female  163.207380  97.799859  36.716278      36.716278   \n",
       "2            3   46    Male  177.281966  80.687562  25.673050      25.673050   \n",
       "3            4   32  Female  172.101255  63.142868  21.318480      21.318480   \n",
       "4            5   60  Female  163.608816  40.000000  14.943302      14.943302   \n",
       "\n",
       "   bmi_scaled  bmi_corrected  waist_size  ...  sunlight_exposure  \\\n",
       "0   56.747776      18.989117   72.165130  ...               High   \n",
       "1  110.148833      36.511417   85.598889  ...               High   \n",
       "2   77.019151      25.587429   90.295030  ...               High   \n",
       "3   63.955440      21.177109  100.504211  ...               High   \n",
       "4   44.829907      14.844299   69.021150  ...               High   \n",
       "\n",
       "   meals_per_day  caffeine_intake  family_history  pet_owner  \\\n",
       "0              5         Moderate              No        Yes   \n",
       "1              5             High             Yes         No   \n",
       "2              4         Moderate              No         No   \n",
       "3              1              NaN              No        Yes   \n",
       "4              1             High             Yes        Yes   \n",
       "\n",
       "   electrolyte_level gene_marker_flag  environmental_risk_score  \\\n",
       "0                  0              1.0                       5.5   \n",
       "1                  0              1.0                       5.5   \n",
       "2                  0              1.0                       5.5   \n",
       "3                  0              1.0                       5.5   \n",
       "4                  0              1.0                       5.5   \n",
       "\n",
       "   daily_supplement_dosage   target  \n",
       "0                -2.275502  healthy  \n",
       "1                 6.239340  healthy  \n",
       "2                 5.423737  healthy  \n",
       "3                 8.388611  healthy  \n",
       "4                 0.332622  healthy  \n",
       "\n",
       "[5 rows x 48 columns]"
      ]
     },
     "execution_count": 6,
     "metadata": {},
     "output_type": "execute_result"
    }
   ],
   "source": [
    "import pandas as pd\n",
    "df= pd.read_csv('../Data/Raw/health_lifestyle_classification.csv')\n",
    "df.head()"
   ]
  },
  {
   "cell_type": "code",
   "execution_count": 8,
   "id": "45263907-38e0-4925-955f-32ffdaa0addc",
   "metadata": {},
   "outputs": [
    {
     "data": {
      "text/plain": [
       "survey_code                   int64\n",
       "age                           int64\n",
       "gender                       object\n",
       "height                      float64\n",
       "weight                      float64\n",
       "bmi                         float64\n",
       "bmi_estimated               float64\n",
       "bmi_scaled                  float64\n",
       "bmi_corrected               float64\n",
       "waist_size                  float64\n",
       "blood_pressure              float64\n",
       "heart_rate                  float64\n",
       "cholesterol                 float64\n",
       "glucose                     float64\n",
       "insulin                     float64\n",
       "sleep_hours                 float64\n",
       "sleep_quality                object\n",
       "work_hours                  float64\n",
       "physical_activity           float64\n",
       "daily_steps                 float64\n",
       "calorie_intake              float64\n",
       "sugar_intake                float64\n",
       "alcohol_consumption          object\n",
       "smoking_level                object\n",
       "water_intake                float64\n",
       "screen_time                 float64\n",
       "stress_level                  int64\n",
       "mental_health_score           int64\n",
       "mental_health_support        object\n",
       "education_level              object\n",
       "job_type                     object\n",
       "occupation                   object\n",
       "income                      float64\n",
       "diet_type                    object\n",
       "exercise_type                object\n",
       "device_usage                 object\n",
       "healthcare_access            object\n",
       "insurance                    object\n",
       "sunlight_exposure            object\n",
       "meals_per_day                 int64\n",
       "caffeine_intake              object\n",
       "family_history               object\n",
       "pet_owner                    object\n",
       "electrolyte_level             int64\n",
       "gene_marker_flag            float64\n",
       "environmental_risk_score    float64\n",
       "daily_supplement_dosage     float64\n",
       "target                       object\n",
       "dtype: object"
      ]
     },
     "execution_count": 8,
     "metadata": {},
     "output_type": "execute_result"
    }
   ],
   "source": [
    "#df.dtypes"
   ]
  },
  {
   "cell_type": "code",
   "execution_count": 19,
   "id": "f9ac3c25-6202-4f79-b3f6-d62fbb2239cd",
   "metadata": {},
   "outputs": [],
   "source": [
    "#df.info()"
   ]
  },
  {
   "cell_type": "code",
   "execution_count": 21,
   "id": "440b45d1-bc7c-4240-b5d1-4f8aefc70562",
   "metadata": {},
   "outputs": [
    {
     "data": {
      "text/plain": [
       "survey_code                     0\n",
       "age                             0\n",
       "gender                          0\n",
       "height                          0\n",
       "weight                          0\n",
       "bmi                             0\n",
       "bmi_estimated                   0\n",
       "bmi_scaled                      0\n",
       "bmi_corrected                   0\n",
       "waist_size                      0\n",
       "blood_pressure               7669\n",
       "heart_rate                  14003\n",
       "cholesterol                     0\n",
       "glucose                         0\n",
       "insulin                     15836\n",
       "sleep_hours                     0\n",
       "sleep_quality                   0\n",
       "work_hours                      0\n",
       "physical_activity               0\n",
       "daily_steps                  8329\n",
       "calorie_intake                  0\n",
       "sugar_intake                    0\n",
       "alcohol_consumption         42387\n",
       "smoking_level                   0\n",
       "water_intake                    0\n",
       "screen_time                     0\n",
       "stress_level                    0\n",
       "mental_health_score             0\n",
       "mental_health_support           0\n",
       "education_level                 0\n",
       "job_type                        0\n",
       "occupation                      0\n",
       "income                       8470\n",
       "diet_type                       0\n",
       "exercise_type               24969\n",
       "device_usage                    0\n",
       "healthcare_access               0\n",
       "insurance                       0\n",
       "sunlight_exposure               0\n",
       "meals_per_day                   0\n",
       "caffeine_intake             33261\n",
       "family_history                  0\n",
       "pet_owner                       0\n",
       "electrolyte_level               0\n",
       "gene_marker_flag            10474\n",
       "environmental_risk_score        0\n",
       "daily_supplement_dosage         0\n",
       "target                          0\n",
       "dtype: int64"
      ]
     },
     "execution_count": 21,
     "metadata": {},
     "output_type": "execute_result"
    }
   ],
   "source": [
    "df.isna().sum()"
   ]
  },
  {
   "cell_type": "code",
   "execution_count": 24,
   "id": "15761faf-dfa9-431f-83d5-df8ef90b0c3a",
   "metadata": {},
   "outputs": [
    {
     "data": {
      "text/plain": [
       "array([ 8,  9,  1,  4,  7,  6,  2,  3,  5,  0, 10])"
      ]
     },
     "execution_count": 24,
     "metadata": {},
     "output_type": "execute_result"
    }
   ],
   "source": [
    "df['mental_health_score'].unique()     "
   ]
  },
  {
   "cell_type": "code",
   "execution_count": 22,
   "id": "0eb2c4cb-2ca3-4bb4-ac64-727baf3d0ebd",
   "metadata": {},
   "outputs": [
    {
     "data": {
      "text/plain": [
       "array(['Tech', 'Office', 'Labor', 'Unemployed', 'Service', 'Healthcare'],\n",
       "      dtype=object)"
      ]
     },
     "execution_count": 22,
     "metadata": {},
     "output_type": "execute_result"
    }
   ],
   "source": [
    "df['job_type'].unique()     "
   ]
  },
  {
   "cell_type": "code",
   "execution_count": 15,
   "id": "154813cf-f337-4d32-82dd-d444552bac30",
   "metadata": {},
   "outputs": [
    {
     "data": {
      "text/plain": [
       "array([nan, 'Regularly', 'Occasionally'], dtype=object)"
      ]
     },
     "execution_count": 15,
     "metadata": {},
     "output_type": "execute_result"
    }
   ],
   "source": [
    "df['alcohol_consumption'].unique()    "
   ]
  },
  {
   "cell_type": "code",
   "execution_count": 16,
   "id": "cb7cff39-9aa1-46fb-b808-bc43f0af339b",
   "metadata": {},
   "outputs": [
    {
     "data": {
      "text/plain": [
       "array(['Moderate', 'High', nan], dtype=object)"
      ]
     },
     "execution_count": 16,
     "metadata": {},
     "output_type": "execute_result"
    }
   ],
   "source": [
    "df['caffeine_intake'].unique()   "
   ]
  },
  {
   "cell_type": "code",
   "execution_count": 17,
   "id": "203662b6-0313-4d39-923e-9d327d3d8126",
   "metadata": {},
   "outputs": [
    {
     "data": {
      "text/plain": [
       "array(['Strength', 'Cardio', 'Mixed', nan], dtype=object)"
      ]
     },
     "execution_count": 17,
     "metadata": {},
     "output_type": "execute_result"
    }
   ],
   "source": [
    "df['exercise_type'].unique()   "
   ]
  },
  {
   "cell_type": "code",
   "execution_count": 18,
   "id": "ee1f5184-a143-404e-b14c-247989765940",
   "metadata": {},
   "outputs": [
    {
     "data": {
      "text/plain": [
       "array([ 1., nan])"
      ]
     },
     "execution_count": 18,
     "metadata": {},
     "output_type": "execute_result"
    }
   ],
   "source": [
    "df['gene_marker_flag'].unique()   "
   ]
  },
  {
   "cell_type": "code",
   "execution_count": 31,
   "id": "40374c13-06f2-4086-be28-d680ce8859de",
   "metadata": {},
   "outputs": [],
   "source": [
    "df = df.drop(['bmi_estimated', 'bmi_scaled', 'bmi_corrected', 'insurance', 'income', 'gene_marker_flag', 'education_level', 'occupation', 'electrolyte_level'], axis=1)"
   ]
  },
  {
   "cell_type": "code",
   "execution_count": 32,
   "id": "3a1c95e7-456a-4697-acf4-07e18ed13e41",
   "metadata": {},
   "outputs": [],
   "source": [
    "df2=df.dropna()"
   ]
  },
  {
   "cell_type": "code",
   "execution_count": 33,
   "id": "3c8c2c07-f73b-4d2d-8adf-87dbd9949c11",
   "metadata": {},
   "outputs": [
    {
     "data": {
      "text/plain": [
       "(17577, 39)"
      ]
     },
     "execution_count": 33,
     "metadata": {},
     "output_type": "execute_result"
    }
   ],
   "source": [
    "df2.shape"
   ]
  },
  {
   "cell_type": "code",
   "execution_count": 34,
   "id": "067f7b76-58cf-4aaa-aadb-1ae767fb7283",
   "metadata": {},
   "outputs": [
    {
     "data": {
      "text/plain": [
       "survey_code                   int64\n",
       "age                           int64\n",
       "gender                       object\n",
       "height                      float64\n",
       "weight                      float64\n",
       "bmi                         float64\n",
       "waist_size                  float64\n",
       "blood_pressure              float64\n",
       "heart_rate                  float64\n",
       "cholesterol                 float64\n",
       "glucose                     float64\n",
       "insulin                     float64\n",
       "sleep_hours                 float64\n",
       "sleep_quality                object\n",
       "work_hours                  float64\n",
       "physical_activity           float64\n",
       "daily_steps                 float64\n",
       "calorie_intake              float64\n",
       "sugar_intake                float64\n",
       "alcohol_consumption          object\n",
       "smoking_level                object\n",
       "water_intake                float64\n",
       "screen_time                 float64\n",
       "stress_level                  int64\n",
       "mental_health_score           int64\n",
       "mental_health_support        object\n",
       "job_type                     object\n",
       "diet_type                    object\n",
       "exercise_type                object\n",
       "device_usage                 object\n",
       "healthcare_access            object\n",
       "sunlight_exposure            object\n",
       "meals_per_day                 int64\n",
       "caffeine_intake              object\n",
       "family_history               object\n",
       "pet_owner                    object\n",
       "environmental_risk_score    float64\n",
       "daily_supplement_dosage     float64\n",
       "target                       object\n",
       "dtype: object"
      ]
     },
     "execution_count": 34,
     "metadata": {},
     "output_type": "execute_result"
    }
   ],
   "source": [
    "#Data wrangling --> transforming data to numerical\n",
    "df.dtypes"
   ]
  },
  {
   "cell_type": "code",
   "execution_count": 37,
   "id": "889ae2c5-2b5b-4c9e-bbd0-84191738b895",
   "metadata": {},
   "outputs": [
    {
     "data": {
      "text/plain": [
       "array(['Good', 'Poor', 'Fair', 'Excellent'], dtype=object)"
      ]
     },
     "execution_count": 37,
     "metadata": {},
     "output_type": "execute_result"
    }
   ],
   "source": [
    "df2['sleep_quality'].unique()  "
   ]
  },
  {
   "cell_type": "code",
   "execution_count": 38,
   "id": "acda12fa-b126-435c-a864-a322b3391906",
   "metadata": {},
   "outputs": [
    {
     "data": {
      "text/plain": [
       "array(['Regularly', 'Occasionally'], dtype=object)"
      ]
     },
     "execution_count": 38,
     "metadata": {},
     "output_type": "execute_result"
    }
   ],
   "source": [
    "df2['alcohol_consumption'].unique()"
   ]
  },
  {
   "cell_type": "code",
   "execution_count": 39,
   "id": "1b00c409-96cf-41f4-a0f3-ed7114312f93",
   "metadata": {},
   "outputs": [
    {
     "data": {
      "text/plain": [
       "array(['Light', 'Non-smoker', 'Heavy'], dtype=object)"
      ]
     },
     "execution_count": 39,
     "metadata": {},
     "output_type": "execute_result"
    }
   ],
   "source": [
    "df2['smoking_level'].unique()"
   ]
  },
  {
   "cell_type": "code",
   "execution_count": 41,
   "id": "f6e5163d-b7be-4dc4-9433-2df85d10fe17",
   "metadata": {},
   "outputs": [
    {
     "name": "stderr",
     "output_type": "stream",
     "text": [
      "C:\\Users\\Lenovo\\AppData\\Local\\Temp\\ipykernel_20196\\550091831.py:8: SettingWithCopyWarning: \n",
      "A value is trying to be set on a copy of a slice from a DataFrame.\n",
      "Try using .loc[row_indexer,col_indexer] = value instead\n",
      "\n",
      "See the caveats in the documentation: https://pandas.pydata.org/pandas-docs/stable/user_guide/indexing.html#returning-a-view-versus-a-copy\n",
      "  df2['sleep_quality'] = df2['sleep_quality'].map(quality_mapping)\n"
     ]
    }
   ],
   "source": [
    "quality_mapping = {\n",
    "    'Poor': 0,\n",
    "    'Fair': 1,\n",
    "    'Good': 2,\n",
    "    'Excellent': 3\n",
    "}\n",
    "\n",
    "df2['sleep_quality'] = df2['sleep_quality'].map(quality_mapping)"
   ]
  },
  {
   "cell_type": "code",
   "execution_count": 42,
   "id": "f337d18b-d7c8-4675-af1b-0d4a7520d797",
   "metadata": {},
   "outputs": [
    {
     "data": {
      "text/plain": [
       "array([2, 0, 1, 3])"
      ]
     },
     "execution_count": 42,
     "metadata": {},
     "output_type": "execute_result"
    }
   ],
   "source": [
    "df2['sleep_quality'].unique()  "
   ]
  },
  {
   "cell_type": "code",
   "execution_count": 43,
   "id": "f781ea06-d86c-4ead-ae61-32f240ada95f",
   "metadata": {},
   "outputs": [
    {
     "data": {
      "text/plain": [
       "array(['Female', 'Male'], dtype=object)"
      ]
     },
     "execution_count": 43,
     "metadata": {},
     "output_type": "execute_result"
    }
   ],
   "source": [
    "df2['gender'].unique()  "
   ]
  },
  {
   "cell_type": "code",
   "execution_count": 58,
   "id": "e25af5ce-7994-43ce-bc32-df040b2c307f",
   "metadata": {},
   "outputs": [
    {
     "data": {
      "text/plain": [
       "array(['Female', 'Male'], dtype=object)"
      ]
     },
     "execution_count": 58,
     "metadata": {},
     "output_type": "execute_result"
    }
   ],
   "source": [
    "df2['gender'].unique()  "
   ]
  },
  {
   "cell_type": "code",
   "execution_count": 60,
   "id": "971a00e6-6c9d-46b9-b69f-2f510e53c7ef",
   "metadata": {},
   "outputs": [
    {
     "name": "stderr",
     "output_type": "stream",
     "text": [
      "C:\\Users\\Lenovo\\AppData\\Local\\Temp\\ipykernel_20196\\2631655858.py:6: SettingWithCopyWarning: \n",
      "A value is trying to be set on a copy of a slice from a DataFrame.\n",
      "Try using .loc[row_indexer,col_indexer] = value instead\n",
      "\n",
      "See the caveats in the documentation: https://pandas.pydata.org/pandas-docs/stable/user_guide/indexing.html#returning-a-view-versus-a-copy\n",
      "  df2['alcohol_consumption'] = df2['alcohol_consumption'].map(alcohol_mapping)\n"
     ]
    }
   ],
   "source": [
    "alcohol_mapping = {\n",
    "    'Regularly': 1,\n",
    "    'Occasionally': 0\n",
    "}\n",
    "\n",
    "df2['alcohol_consumption'] = df2['alcohol_consumption'].map(alcohol_mapping)\n"
   ]
  },
  {
   "cell_type": "code",
   "execution_count": 61,
   "id": "c62ec4ac-cb01-4c75-a721-e79387593f0d",
   "metadata": {},
   "outputs": [
    {
     "data": {
      "text/plain": [
       "array([1, 0])"
      ]
     },
     "execution_count": 61,
     "metadata": {},
     "output_type": "execute_result"
    }
   ],
   "source": [
    "df2['alcohol_consumption'].unique()"
   ]
  },
  {
   "cell_type": "code",
   "execution_count": 62,
   "id": "fbc1842d-9d57-489b-8fff-58f76faaebdf",
   "metadata": {},
   "outputs": [
    {
     "data": {
      "text/plain": [
       "array(['No', 'Yes'], dtype=object)"
      ]
     },
     "execution_count": 62,
     "metadata": {},
     "output_type": "execute_result"
    }
   ],
   "source": [
    "df2['pet_owner'].unique()"
   ]
  },
  {
   "cell_type": "code",
   "execution_count": 63,
   "id": "83a906d1-ff89-4af9-aac7-c121636d57aa",
   "metadata": {},
   "outputs": [
    {
     "name": "stderr",
     "output_type": "stream",
     "text": [
      "C:\\Users\\Lenovo\\AppData\\Local\\Temp\\ipykernel_20196\\4213254196.py:6: SettingWithCopyWarning: \n",
      "A value is trying to be set on a copy of a slice from a DataFrame.\n",
      "Try using .loc[row_indexer,col_indexer] = value instead\n",
      "\n",
      "See the caveats in the documentation: https://pandas.pydata.org/pandas-docs/stable/user_guide/indexing.html#returning-a-view-versus-a-copy\n",
      "  df2['pet_owner'] = df2['pet_owner'].map(pet_owner_mapping)\n"
     ]
    }
   ],
   "source": [
    "pet_owner_mapping = {\n",
    "    'No': 0,\n",
    "    'Yes': 1\n",
    "}\n",
    "\n",
    "df2['pet_owner'] = df2['pet_owner'].map(pet_owner_mapping)"
   ]
  },
  {
   "cell_type": "code",
   "execution_count": 64,
   "id": "12a3a337-69b3-4600-b90a-426bcadc7ac7",
   "metadata": {},
   "outputs": [
    {
     "data": {
      "text/plain": [
       "array([0, 1])"
      ]
     },
     "execution_count": 64,
     "metadata": {},
     "output_type": "execute_result"
    }
   ],
   "source": [
    "df2['pet_owner'].unique()"
   ]
  },
  {
   "cell_type": "code",
   "execution_count": null,
   "id": "e6db78b1-8d4e-4625-a65f-63c6dd1ca34e",
   "metadata": {},
   "outputs": [],
   "source": []
  }
 ],
 "metadata": {
  "kernelspec": {
   "display_name": "bas_new",
   "language": "python",
   "name": "bas_new"
  },
  "language_info": {
   "codemirror_mode": {
    "name": "ipython",
    "version": 3
   },
   "file_extension": ".py",
   "mimetype": "text/x-python",
   "name": "python",
   "nbconvert_exporter": "python",
   "pygments_lexer": "ipython3",
   "version": "3.12.3"
  }
 },
 "nbformat": 4,
 "nbformat_minor": 5
}
