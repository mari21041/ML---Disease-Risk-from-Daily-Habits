{
 "cells": [
  {
   "cell_type": "code",
   "execution_count": 14,
   "id": "0d6d7fc1-d0dd-4821-9656-4a32b1323748",
   "metadata": {},
   "outputs": [],
   "source": [
    "\n",
    "import pandas as pd\n",
    "from scipy.stats import ttest_ind\n",
    "import matplotlib.pyplot as plt\n",
    "import seaborn as sns\n",
    "\n",
    "df = pd.read_csv(\"../Data/Clean/Clean_data.csv\")"
   ]
  },
  {
   "cell_type": "code",
   "execution_count": 15,
   "id": "634e760e-dce8-4729-802f-0f11d71d79ee",
   "metadata": {},
   "outputs": [
    {
     "name": "stdout",
     "output_type": "stream",
     "text": [
      "<class 'pandas.core.frame.DataFrame'>\n",
      "RangeIndex: 17577 entries, 0 to 17576\n",
      "Data columns (total 39 columns):\n",
      " #   Column                    Non-Null Count  Dtype  \n",
      "---  ------                    --------------  -----  \n",
      " 0   survey_code               17577 non-null  int64  \n",
      " 1   age                       17577 non-null  int64  \n",
      " 2   gender                    17577 non-null  int64  \n",
      " 3   height                    17577 non-null  float64\n",
      " 4   weight                    17577 non-null  float64\n",
      " 5   bmi                       17577 non-null  float64\n",
      " 6   waist_size                17577 non-null  float64\n",
      " 7   blood_pressure            17577 non-null  float64\n",
      " 8   heart_rate                17577 non-null  float64\n",
      " 9   cholesterol               17577 non-null  float64\n",
      " 10  glucose                   17577 non-null  float64\n",
      " 11  insulin                   17577 non-null  float64\n",
      " 12  sleep_hours               17577 non-null  float64\n",
      " 13  sleep_quality             17577 non-null  int64  \n",
      " 14  work_hours                17577 non-null  float64\n",
      " 15  physical_activity         17577 non-null  float64\n",
      " 16  daily_steps               17577 non-null  float64\n",
      " 17  calorie_intake            17577 non-null  float64\n",
      " 18  sugar_intake              17577 non-null  float64\n",
      " 19  alcohol_consumption       17577 non-null  int64  \n",
      " 20  smoking_level             17577 non-null  int64  \n",
      " 21  water_intake              17577 non-null  float64\n",
      " 22  screen_time               17577 non-null  float64\n",
      " 23  stress_level              17577 non-null  int64  \n",
      " 24  mental_health_score       17577 non-null  int64  \n",
      " 25  mental_health_support     17577 non-null  int64  \n",
      " 26  job_type                  17577 non-null  int64  \n",
      " 27  diet_type                 17577 non-null  int64  \n",
      " 28  exercise_type             17577 non-null  int64  \n",
      " 29  device_usage              11739 non-null  float64\n",
      " 30  healthcare_access         17577 non-null  int64  \n",
      " 31  sunlight_exposure         17577 non-null  int64  \n",
      " 32  meals_per_day             17577 non-null  int64  \n",
      " 33  caffeine_intake           17577 non-null  int64  \n",
      " 34  family_history            17577 non-null  int64  \n",
      " 35  pet_owner                 17577 non-null  int64  \n",
      " 36  environmental_risk_score  17577 non-null  float64\n",
      " 37  daily_supplement_dosage   17577 non-null  float64\n",
      " 38  target                    17577 non-null  object \n",
      "dtypes: float64(20), int64(18), object(1)\n",
      "memory usage: 5.2+ MB\n"
     ]
    }
   ],
   "source": [
    "df.info()"
   ]
  },
  {
   "cell_type": "code",
   "execution_count": 16,
   "id": "46b236e3-bfcf-4529-bd15-efea6c4926b8",
   "metadata": {},
   "outputs": [
    {
     "data": {
      "text/plain": [
       "target\n",
       "healthy     12383\n",
       "diseased     5194\n",
       "Name: count, dtype: int64"
      ]
     },
     "execution_count": 16,
     "metadata": {},
     "output_type": "execute_result"
    }
   ],
   "source": [
    "df['target'].value_counts()"
   ]
  },
  {
   "cell_type": "code",
   "execution_count": 17,
   "id": "4616e2ee-ab7d-416d-9c3e-61a293240140",
   "metadata": {},
   "outputs": [],
   "source": [
    "# Split the data into healthy and diseased groups\n",
    "healthy = df[df['target'] == 'healthy']\n",
    "diseased = df[df['target'] == 'diseased']"
   ]
  },
  {
   "cell_type": "code",
   "execution_count": 18,
   "id": "108d84bd-257d-4778-b06a-5dfec9d7e8f9",
   "metadata": {},
   "outputs": [],
   "source": [
    "# List of features to test\n",
    "features_to_test = ['bmi', 'sleep_hours', 'physical_activity', 'sugar_intake', 'stress_level']"
   ]
  },
  {
   "cell_type": "code",
   "execution_count": 19,
   "id": "789af3d3-bb8a-4efa-81a1-5ec1fcc9c3b8",
   "metadata": {},
   "outputs": [],
   "source": [
    "# Select numerical columns only \n",
    "numerical_cols = df.select_dtypes(include=['int64', 'float64']).columns.drop(['survey_code'], errors='ignore')"
   ]
  },
  {
   "cell_type": "code",
   "execution_count": 20,
   "id": "86b3c4b9-3cbf-4322-b2b9-ad4530b66de0",
   "metadata": {},
   "outputs": [
    {
     "data": {
      "text/html": [
       "<div>\n",
       "<style scoped>\n",
       "    .dataframe tbody tr th:only-of-type {\n",
       "        vertical-align: middle;\n",
       "    }\n",
       "\n",
       "    .dataframe tbody tr th {\n",
       "        vertical-align: top;\n",
       "    }\n",
       "\n",
       "    .dataframe thead th {\n",
       "        text-align: right;\n",
       "    }\n",
       "</style>\n",
       "<table border=\"1\" class=\"dataframe\">\n",
       "  <thead>\n",
       "    <tr style=\"text-align: right;\">\n",
       "      <th></th>\n",
       "      <th>Feature</th>\n",
       "      <th>T-statistic</th>\n",
       "      <th>P-value</th>\n",
       "      <th>Significant (p &lt; 0.05)</th>\n",
       "    </tr>\n",
       "  </thead>\n",
       "  <tbody>\n",
       "    <tr>\n",
       "      <th>0</th>\n",
       "      <td>bmi</td>\n",
       "      <td>0.2449</td>\n",
       "      <td>0.806546</td>\n",
       "      <td>False</td>\n",
       "    </tr>\n",
       "    <tr>\n",
       "      <th>1</th>\n",
       "      <td>sleep_hours</td>\n",
       "      <td>-0.8860</td>\n",
       "      <td>0.375660</td>\n",
       "      <td>False</td>\n",
       "    </tr>\n",
       "    <tr>\n",
       "      <th>2</th>\n",
       "      <td>physical_activity</td>\n",
       "      <td>-0.3372</td>\n",
       "      <td>0.736004</td>\n",
       "      <td>False</td>\n",
       "    </tr>\n",
       "    <tr>\n",
       "      <th>3</th>\n",
       "      <td>sugar_intake</td>\n",
       "      <td>0.9000</td>\n",
       "      <td>0.368152</td>\n",
       "      <td>False</td>\n",
       "    </tr>\n",
       "    <tr>\n",
       "      <th>4</th>\n",
       "      <td>stress_level</td>\n",
       "      <td>1.1844</td>\n",
       "      <td>0.236290</td>\n",
       "      <td>False</td>\n",
       "    </tr>\n",
       "  </tbody>\n",
       "</table>\n",
       "</div>"
      ],
      "text/plain": [
       "             Feature  T-statistic   P-value  Significant (p < 0.05)\n",
       "0                bmi       0.2449  0.806546                   False\n",
       "1        sleep_hours      -0.8860  0.375660                   False\n",
       "2  physical_activity      -0.3372  0.736004                   False\n",
       "3       sugar_intake       0.9000  0.368152                   False\n",
       "4       stress_level       1.1844  0.236290                   False"
      ]
     },
     "execution_count": 20,
     "metadata": {},
     "output_type": "execute_result"
    }
   ],
   "source": [
    "\n",
    "ttest_results = []\n",
    "\n",
    "for feature in features_to_test:\n",
    "    t_stat, p_value = ttest_ind(healthy[feature], diseased[feature], equal_var=False)\n",
    "    ttest_results.append({\n",
    "        'Feature': feature,\n",
    "        'T-statistic': round(t_stat, 4),\n",
    "        'P-value': round(p_value, 6),\n",
    "        'Significant (p < 0.05)': p_value < 0.05\n",
    "    })\n",
    "\n",
    "# Create a DataFrame \n",
    "ttest_df = pd.DataFrame(ttest_results)\n",
    "ttest_df\n"
   ]
  },
  {
   "cell_type": "code",
   "execution_count": 21,
   "id": "41aeb8c3-47ae-4170-9f4e-df0cff30ae0f",
   "metadata": {},
   "outputs": [
    {
     "name": "stdout",
     "output_type": "stream",
     "text": [
      "          Feature  T-statistic  P-value  Significant (p < 0.05)\n",
      "     stress_level       1.1844 0.236290                   False\n",
      "     sugar_intake       0.9000 0.368152                   False\n",
      "      sleep_hours      -0.8860 0.375660                   False\n",
      "physical_activity      -0.3372 0.736004                   False\n",
      "              bmi       0.2449 0.806546                   False\n"
     ]
    }
   ],
   "source": [
    "ttest_df = pd.DataFrame(ttest_results).sort_values(by='P-value')\n",
    "print(ttest_df.to_string(index=False))"
   ]
  },
  {
   "cell_type": "code",
   "execution_count": 30,
   "id": "4bee802b-1222-4972-b1fd-99e9f81c3bb4",
   "metadata": {},
   "outputs": [
    {
     "data": {
      "text/html": [
       "<div>\n",
       "<style scoped>\n",
       "    .dataframe tbody tr th:only-of-type {\n",
       "        vertical-align: middle;\n",
       "    }\n",
       "\n",
       "    .dataframe tbody tr th {\n",
       "        vertical-align: top;\n",
       "    }\n",
       "\n",
       "    .dataframe thead th {\n",
       "        text-align: right;\n",
       "    }\n",
       "</style>\n",
       "<table border=\"1\" class=\"dataframe\">\n",
       "  <thead>\n",
       "    <tr style=\"text-align: right;\">\n",
       "      <th></th>\n",
       "      <th>Feature</th>\n",
       "      <th>|T-statistic|</th>\n",
       "      <th>P-value</th>\n",
       "      <th>Significant (p &lt; 0.05)</th>\n",
       "    </tr>\n",
       "  </thead>\n",
       "  <tbody>\n",
       "    <tr>\n",
       "      <th>0</th>\n",
       "      <td>stress_level</td>\n",
       "      <td>1.1844</td>\n",
       "      <td>0.236290</td>\n",
       "      <td>False</td>\n",
       "    </tr>\n",
       "    <tr>\n",
       "      <th>1</th>\n",
       "      <td>sugar_intake</td>\n",
       "      <td>0.9000</td>\n",
       "      <td>0.368152</td>\n",
       "      <td>False</td>\n",
       "    </tr>\n",
       "    <tr>\n",
       "      <th>2</th>\n",
       "      <td>sleep_hours</td>\n",
       "      <td>0.8860</td>\n",
       "      <td>0.375660</td>\n",
       "      <td>False</td>\n",
       "    </tr>\n",
       "    <tr>\n",
       "      <th>3</th>\n",
       "      <td>physical_activity</td>\n",
       "      <td>0.3372</td>\n",
       "      <td>0.736004</td>\n",
       "      <td>False</td>\n",
       "    </tr>\n",
       "    <tr>\n",
       "      <th>4</th>\n",
       "      <td>bmi</td>\n",
       "      <td>0.2449</td>\n",
       "      <td>0.806546</td>\n",
       "      <td>False</td>\n",
       "    </tr>\n",
       "  </tbody>\n",
       "</table>\n",
       "</div>"
      ],
      "text/plain": [
       "             Feature  |T-statistic|   P-value  Significant (p < 0.05)\n",
       "0       stress_level         1.1844  0.236290                   False\n",
       "1       sugar_intake         0.9000  0.368152                   False\n",
       "2        sleep_hours         0.8860  0.375660                   False\n",
       "3  physical_activity         0.3372  0.736004                   False\n",
       "4                bmi         0.2449  0.806546                   False"
      ]
     },
     "execution_count": 30,
     "metadata": {},
     "output_type": "execute_result"
    }
   ],
   "source": [
    "ttest_df[\"|T-statistic|\"] = ttest_df[\"T-statistic\"].abs()\n",
    "\n",
    "# Sort by absolute t-statistic to find the strongest relationship\n",
    "ttest_sorted = ttest_df.sort_values(by=\"|T-statistic|\", ascending=False).reset_index(drop=True)\n",
    "ttest_sorted[[\"Feature\", \"|T-statistic|\", \"P-value\", \"Significant (p < 0.05)\"]]\n"
   ]
  },
  {
   "cell_type": "code",
   "execution_count": 31,
   "id": "49c0f5b8-82d7-4b6e-b722-afc631dbe210",
   "metadata": {},
   "outputs": [
    {
     "data": {
      "text/plain": [
       "<matplotlib.legend.Legend at 0x134176210>"
      ]
     },
     "execution_count": 31,
     "metadata": {},
     "output_type": "execute_result"
    },
    {
     "data": {
      "image/png": "[encoded data removed]",
      "text/plain": [
       "<Figure size 1000x600 with 1 Axes>"
      ]
     },
     "metadata": {},
     "output_type": "display_data"
    }
   ],
   "source": [
    "# Visualization\n",
    "plt.figure(figsize=(10, 6))\n",
    "bars = plt.bar(ttest_sorted[\"Feature\"], ttest_sorted[\"|T-statistic|\"], color='cornflowerblue')\n",
    "plt.axhline(y=2, color='red', linestyle='--', label='Significance Threshold (|t| ≈ 2)')\n",
    "plt.title(\"T-Test: Strength of Relationship by Feature\")\n",
    "plt.xlabel(\"Feature\")\n",
    "plt.ylabel(\"Absolute T-statistic\")\n",
    "plt.grid(axis='y', linestyle='--', alpha=0.6)\n",
    "plt.legend()"
   ]
  },
  {
   "cell_type": "code",
   "execution_count": null,
   "id": "b9e64426-2dba-4fe7-ba8c-883566b5b5d6",
   "metadata": {},
   "outputs": [],
   "source": [
    "#The feature with the strongest relationship is stress_level, based on the highest absolute t-statistic of 1.1844."
   ]
  },
  {
   "cell_type": "code",
   "execution_count": null,
   "id": "d244b96d-7bca-40c6-8bd1-7ec397e7c896",
   "metadata": {},
   "outputs": [],
   "source": []
  }
 ],
 "metadata": {
  "kernelspec": {
   "display_name": "Python [conda env:base] *",
   "language": "python",
   "name": "conda-base-py"
  },
  "language_info": {
   "codemirror_mode": {
    "name": "ipython",
    "version": 3
   },
   "file_extension": ".py",
   "mimetype": "text/x-python",
   "name": "python",
   "nbconvert_exporter": "python",
   "pygments_lexer": "ipython3",
   "version": "3.13.2"
  }
 },
 "nbformat": 4,
 "nbformat_minor": 5
}
