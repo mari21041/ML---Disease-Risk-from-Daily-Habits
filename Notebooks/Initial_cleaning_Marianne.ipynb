{
 "cells": [
  {
   "cell_type": "code",
   "execution_count": 51,
   "id": "847d7b9e-63e9-405f-aacd-d33d4e59763f",
   "metadata": {},
   "outputs": [
    {
     "data": {
      "text/html": [
       "<div>\n",
       "<style scoped>\n",
       "    .dataframe tbody tr th:only-of-type {\n",
       "        vertical-align: middle;\n",
       "    }\n",
       "\n",
       "    .dataframe tbody tr th {\n",
       "        vertical-align: top;\n",
       "    }\n",
       "\n",
       "    .dataframe thead th {\n",
       "        text-align: right;\n",
       "    }\n",
       "</style>\n",
       "<table border=\"1\" class=\"dataframe\">\n",
       "  <thead>\n",
       "    <tr style=\"text-align: right;\">\n",
       "      <th></th>\n",
       "      <th>survey_code</th>\n",
       "      <th>age</th>\n",
       "      <th>gender</th>\n",
       "      <th>height</th>\n",
       "      <th>weight</th>\n",
       "      <th>bmi</th>\n",
       "      <th>bmi_estimated</th>\n",
       "      <th>bmi_scaled</th>\n",
       "      <th>bmi_corrected</th>\n",
       "      <th>waist_size</th>\n",
       "      <th>...</th>\n",
       "      <th>sunlight_exposure</th>\n",
       "      <th>meals_per_day</th>\n",
       "      <th>caffeine_intake</th>\n",
       "      <th>family_history</th>\n",
       "      <th>pet_owner</th>\n",
       "      <th>electrolyte_level</th>\n",
       "      <th>gene_marker_flag</th>\n",
       "      <th>environmental_risk_score</th>\n",
       "      <th>daily_supplement_dosage</th>\n",
       "      <th>target</th>\n",
       "    </tr>\n",
       "  </thead>\n",
       "  <tbody>\n",
       "    <tr>\n",
       "      <th>0</th>\n",
       "      <td>1</td>\n",
       "      <td>56</td>\n",
       "      <td>Male</td>\n",
       "      <td>173.416872</td>\n",
       "      <td>56.886640</td>\n",
       "      <td>18.915925</td>\n",
       "      <td>18.915925</td>\n",
       "      <td>56.747776</td>\n",
       "      <td>18.989117</td>\n",
       "      <td>72.165130</td>\n",
       "      <td>...</td>\n",
       "      <td>High</td>\n",
       "      <td>5</td>\n",
       "      <td>Moderate</td>\n",
       "      <td>No</td>\n",
       "      <td>Yes</td>\n",
       "      <td>0</td>\n",
       "      <td>1.0</td>\n",
       "      <td>5.5</td>\n",
       "      <td>-2.275502</td>\n",
       "      <td>healthy</td>\n",
       "    </tr>\n",
       "    <tr>\n",
       "      <th>1</th>\n",
       "      <td>2</td>\n",
       "      <td>69</td>\n",
       "      <td>Female</td>\n",
       "      <td>163.207380</td>\n",
       "      <td>97.799859</td>\n",
       "      <td>36.716278</td>\n",
       "      <td>36.716278</td>\n",
       "      <td>110.148833</td>\n",
       "      <td>36.511417</td>\n",
       "      <td>85.598889</td>\n",
       "      <td>...</td>\n",
       "      <td>High</td>\n",
       "      <td>5</td>\n",
       "      <td>High</td>\n",
       "      <td>Yes</td>\n",
       "      <td>No</td>\n",
       "      <td>0</td>\n",
       "      <td>1.0</td>\n",
       "      <td>5.5</td>\n",
       "      <td>6.239340</td>\n",
       "      <td>healthy</td>\n",
       "    </tr>\n",
       "    <tr>\n",
       "      <th>2</th>\n",
       "      <td>3</td>\n",
       "      <td>46</td>\n",
       "      <td>Male</td>\n",
       "      <td>177.281966</td>\n",
       "      <td>80.687562</td>\n",
       "      <td>25.673050</td>\n",
       "      <td>25.673050</td>\n",
       "      <td>77.019151</td>\n",
       "      <td>25.587429</td>\n",
       "      <td>90.295030</td>\n",
       "      <td>...</td>\n",
       "      <td>High</td>\n",
       "      <td>4</td>\n",
       "      <td>Moderate</td>\n",
       "      <td>No</td>\n",
       "      <td>No</td>\n",
       "      <td>0</td>\n",
       "      <td>1.0</td>\n",
       "      <td>5.5</td>\n",
       "      <td>5.423737</td>\n",
       "      <td>healthy</td>\n",
       "    </tr>\n",
       "    <tr>\n",
       "      <th>3</th>\n",
       "      <td>4</td>\n",
       "      <td>32</td>\n",
       "      <td>Female</td>\n",
       "      <td>172.101255</td>\n",
       "      <td>63.142868</td>\n",
       "      <td>21.318480</td>\n",
       "      <td>21.318480</td>\n",
       "      <td>63.955440</td>\n",
       "      <td>21.177109</td>\n",
       "      <td>100.504211</td>\n",
       "      <td>...</td>\n",
       "      <td>High</td>\n",
       "      <td>1</td>\n",
       "      <td>NaN</td>\n",
       "      <td>No</td>\n",
       "      <td>Yes</td>\n",
       "      <td>0</td>\n",
       "      <td>1.0</td>\n",
       "      <td>5.5</td>\n",
       "      <td>8.388611</td>\n",
       "      <td>healthy</td>\n",
       "    </tr>\n",
       "    <tr>\n",
       "      <th>4</th>\n",
       "      <td>5</td>\n",
       "      <td>60</td>\n",
       "      <td>Female</td>\n",
       "      <td>163.608816</td>\n",
       "      <td>40.000000</td>\n",
       "      <td>14.943302</td>\n",
       "      <td>14.943302</td>\n",
       "      <td>44.829907</td>\n",
       "      <td>14.844299</td>\n",
       "      <td>69.021150</td>\n",
       "      <td>...</td>\n",
       "      <td>High</td>\n",
       "      <td>1</td>\n",
       "      <td>High</td>\n",
       "      <td>Yes</td>\n",
       "      <td>Yes</td>\n",
       "      <td>0</td>\n",
       "      <td>1.0</td>\n",
       "      <td>5.5</td>\n",
       "      <td>0.332622</td>\n",
       "      <td>healthy</td>\n",
       "    </tr>\n",
       "  </tbody>\n",
       "</table>\n",
       "<p>5 rows × 48 columns</p>\n",
       "</div>"
      ],
      "text/plain": [
       "   survey_code  age  gender      height     weight        bmi  bmi_estimated  \\\n",
       "0            1   56    Male  173.416872  56.886640  18.915925      18.915925   \n",
       "1            2   69  Female  163.207380  97.799859  36.716278      36.716278   \n",
       "2            3   46    Male  177.281966  80.687562  25.673050      25.673050   \n",
       "3            4   32  Female  172.101255  63.142868  21.318480      21.318480   \n",
       "4            5   60  Female  163.608816  40.000000  14.943302      14.943302   \n",
       "\n",
       "   bmi_scaled  bmi_corrected  waist_size  ...  sunlight_exposure  \\\n",
       "0   56.747776      18.989117   72.165130  ...               High   \n",
       "1  110.148833      36.511417   85.598889  ...               High   \n",
       "2   77.019151      25.587429   90.295030  ...               High   \n",
       "3   63.955440      21.177109  100.504211  ...               High   \n",
       "4   44.829907      14.844299   69.021150  ...               High   \n",
       "\n",
       "   meals_per_day  caffeine_intake  family_history  pet_owner  \\\n",
       "0              5         Moderate              No        Yes   \n",
       "1              5             High             Yes         No   \n",
       "2              4         Moderate              No         No   \n",
       "3              1              NaN              No        Yes   \n",
       "4              1             High             Yes        Yes   \n",
       "\n",
       "   electrolyte_level gene_marker_flag  environmental_risk_score  \\\n",
       "0                  0              1.0                       5.5   \n",
       "1                  0              1.0                       5.5   \n",
       "2                  0              1.0                       5.5   \n",
       "3                  0              1.0                       5.5   \n",
       "4                  0              1.0                       5.5   \n",
       "\n",
       "   daily_supplement_dosage   target  \n",
       "0                -2.275502  healthy  \n",
       "1                 6.239340  healthy  \n",
       "2                 5.423737  healthy  \n",
       "3                 8.388611  healthy  \n",
       "4                 0.332622  healthy  \n",
       "\n",
       "[5 rows x 48 columns]"
      ]
     },
     "execution_count": 51,
     "metadata": {},
     "output_type": "execute_result"
    }
   ],
   "source": [
    "import pandas as pd\n",
    "df= pd.read_csv('../Data/Raw/health_lifestyle_classification.csv')\n",
    "df.head()"
   ]
  },
  {
   "cell_type": "code",
   "execution_count": 52,
   "id": "45263907-38e0-4925-955f-32ffdaa0addc",
   "metadata": {},
   "outputs": [],
   "source": [
    "#df.dtypes"
   ]
  },
  {
   "cell_type": "code",
   "execution_count": 53,
   "id": "f9ac3c25-6202-4f79-b3f6-d62fbb2239cd",
   "metadata": {},
   "outputs": [],
   "source": [
    "#df.info()"
   ]
  },
  {
   "cell_type": "code",
   "execution_count": 54,
   "id": "440b45d1-bc7c-4240-b5d1-4f8aefc70562",
   "metadata": {},
   "outputs": [
    {
     "data": {
      "text/plain": [
       "survey_code                     0\n",
       "age                             0\n",
       "gender                          0\n",
       "height                          0\n",
       "weight                          0\n",
       "bmi                             0\n",
       "bmi_estimated                   0\n",
       "bmi_scaled                      0\n",
       "bmi_corrected                   0\n",
       "waist_size                      0\n",
       "blood_pressure               7669\n",
       "heart_rate                  14003\n",
       "cholesterol                     0\n",
       "glucose                         0\n",
       "insulin                     15836\n",
       "sleep_hours                     0\n",
       "sleep_quality                   0\n",
       "work_hours                      0\n",
       "physical_activity               0\n",
       "daily_steps                  8329\n",
       "calorie_intake                  0\n",
       "sugar_intake                    0\n",
       "alcohol_consumption         42387\n",
       "smoking_level                   0\n",
       "water_intake                    0\n",
       "screen_time                     0\n",
       "stress_level                    0\n",
       "mental_health_score             0\n",
       "mental_health_support           0\n",
       "education_level                 0\n",
       "job_type                        0\n",
       "occupation                      0\n",
       "income                       8470\n",
       "diet_type                       0\n",
       "exercise_type               24969\n",
       "device_usage                    0\n",
       "healthcare_access               0\n",
       "insurance                       0\n",
       "sunlight_exposure               0\n",
       "meals_per_day                   0\n",
       "caffeine_intake             33261\n",
       "family_history                  0\n",
       "pet_owner                       0\n",
       "electrolyte_level               0\n",
       "gene_marker_flag            10474\n",
       "environmental_risk_score        0\n",
       "daily_supplement_dosage         0\n",
       "target                          0\n",
       "dtype: int64"
      ]
     },
     "execution_count": 54,
     "metadata": {},
     "output_type": "execute_result"
    }
   ],
   "source": [
    "df.isna().sum()"
   ]
  },
  {
   "cell_type": "code",
   "execution_count": 55,
   "id": "15761faf-dfa9-431f-83d5-df8ef90b0c3a",
   "metadata": {},
   "outputs": [
    {
     "data": {
      "text/plain": [
       "array([ 8,  9,  1,  4,  7,  6,  2,  3,  5,  0, 10])"
      ]
     },
     "execution_count": 55,
     "metadata": {},
     "output_type": "execute_result"
    }
   ],
   "source": [
    "df['mental_health_score'].unique()     "
   ]
  },
  {
   "cell_type": "code",
   "execution_count": 56,
   "id": "0eb2c4cb-2ca3-4bb4-ac64-727baf3d0ebd",
   "metadata": {},
   "outputs": [
    {
     "data": {
      "text/plain": [
       "array(['Tech', 'Office', 'Labor', 'Unemployed', 'Service', 'Healthcare'],\n",
       "      dtype=object)"
      ]
     },
     "execution_count": 56,
     "metadata": {},
     "output_type": "execute_result"
    }
   ],
   "source": [
    "df['job_type'].unique()     "
   ]
  },
  {
   "cell_type": "code",
   "execution_count": 57,
   "id": "154813cf-f337-4d32-82dd-d444552bac30",
   "metadata": {},
   "outputs": [
    {
     "data": {
      "text/plain": [
       "array([nan, 'Regularly', 'Occasionally'], dtype=object)"
      ]
     },
     "execution_count": 57,
     "metadata": {},
     "output_type": "execute_result"
    }
   ],
   "source": [
    "df['alcohol_consumption'].unique()    "
   ]
  },
  {
   "cell_type": "code",
   "execution_count": 58,
   "id": "cb7cff39-9aa1-46fb-b808-bc43f0af339b",
   "metadata": {},
   "outputs": [
    {
     "data": {
      "text/plain": [
       "array(['Moderate', 'High', nan], dtype=object)"
      ]
     },
     "execution_count": 58,
     "metadata": {},
     "output_type": "execute_result"
    }
   ],
   "source": [
    "df['caffeine_intake'].unique()   "
   ]
  },
  {
   "cell_type": "code",
   "execution_count": 59,
   "id": "203662b6-0313-4d39-923e-9d327d3d8126",
   "metadata": {},
   "outputs": [
    {
     "data": {
      "text/plain": [
       "array(['Strength', 'Cardio', 'Mixed', nan], dtype=object)"
      ]
     },
     "execution_count": 59,
     "metadata": {},
     "output_type": "execute_result"
    }
   ],
   "source": [
    "df['exercise_type'].unique()   "
   ]
  },
  {
   "cell_type": "code",
   "execution_count": 60,
   "id": "ee1f5184-a143-404e-b14c-247989765940",
   "metadata": {
    "scrolled": true
   },
   "outputs": [
    {
     "data": {
      "text/plain": [
       "array([ 1., nan])"
      ]
     },
     "execution_count": 60,
     "metadata": {},
     "output_type": "execute_result"
    }
   ],
   "source": [
    "df['gene_marker_flag'].unique()   "
   ]
  },
  {
   "cell_type": "code",
   "execution_count": 61,
   "id": "40374c13-06f2-4086-be28-d680ce8859de",
   "metadata": {},
   "outputs": [],
   "source": [
    "df = df.drop(['bmi_estimated', 'bmi_scaled', 'bmi_corrected', 'insurance', 'income', 'gene_marker_flag', 'education_level', 'occupation', 'electrolyte_level'], axis=1)"
   ]
  },
  {
   "cell_type": "code",
   "execution_count": 62,
   "id": "3a1c95e7-456a-4697-acf4-07e18ed13e41",
   "metadata": {},
   "outputs": [],
   "source": [
    "df2=df.dropna()"
   ]
  },
  {
   "cell_type": "code",
   "execution_count": 63,
   "id": "3c8c2c07-f73b-4d2d-8adf-87dbd9949c11",
   "metadata": {},
   "outputs": [
    {
     "data": {
      "text/plain": [
       "(17577, 39)"
      ]
     },
     "execution_count": 63,
     "metadata": {},
     "output_type": "execute_result"
    }
   ],
   "source": [
    "df2.shape"
   ]
  },
  {
   "cell_type": "code",
   "execution_count": 64,
   "id": "067f7b76-58cf-4aaa-aadb-1ae767fb7283",
   "metadata": {},
   "outputs": [
    {
     "data": {
      "text/plain": [
       "survey_code                   int64\n",
       "age                           int64\n",
       "gender                       object\n",
       "height                      float64\n",
       "weight                      float64\n",
       "bmi                         float64\n",
       "waist_size                  float64\n",
       "blood_pressure              float64\n",
       "heart_rate                  float64\n",
       "cholesterol                 float64\n",
       "glucose                     float64\n",
       "insulin                     float64\n",
       "sleep_hours                 float64\n",
       "sleep_quality                object\n",
       "work_hours                  float64\n",
       "physical_activity           float64\n",
       "daily_steps                 float64\n",
       "calorie_intake              float64\n",
       "sugar_intake                float64\n",
       "alcohol_consumption          object\n",
       "smoking_level                object\n",
       "water_intake                float64\n",
       "screen_time                 float64\n",
       "stress_level                  int64\n",
       "mental_health_score           int64\n",
       "mental_health_support        object\n",
       "job_type                     object\n",
       "diet_type                    object\n",
       "exercise_type                object\n",
       "device_usage                 object\n",
       "healthcare_access            object\n",
       "sunlight_exposure            object\n",
       "meals_per_day                 int64\n",
       "caffeine_intake              object\n",
       "family_history               object\n",
       "pet_owner                    object\n",
       "environmental_risk_score    float64\n",
       "daily_supplement_dosage     float64\n",
       "target                       object\n",
       "dtype: object"
      ]
     },
     "execution_count": 64,
     "metadata": {},
     "output_type": "execute_result"
    }
   ],
   "source": [
    "#Data wrangling --> transforming data to numerical\n",
    "df.dtypes"
   ]
  },
  {
   "cell_type": "code",
   "execution_count": 65,
   "id": "889ae2c5-2b5b-4c9e-bbd0-84191738b895",
   "metadata": {},
   "outputs": [
    {
     "data": {
      "text/plain": [
       "array(['Good', 'Poor', 'Fair', 'Excellent'], dtype=object)"
      ]
     },
     "execution_count": 65,
     "metadata": {},
     "output_type": "execute_result"
    }
   ],
   "source": [
    "df2['sleep_quality'].unique()  "
   ]
  },
  {
   "cell_type": "code",
   "execution_count": 66,
   "id": "acda12fa-b126-435c-a864-a322b3391906",
   "metadata": {},
   "outputs": [
    {
     "data": {
      "text/plain": [
       "array(['Regularly', 'Occasionally'], dtype=object)"
      ]
     },
     "execution_count": 66,
     "metadata": {},
     "output_type": "execute_result"
    }
   ],
   "source": [
    "df2['alcohol_consumption'].unique()"
   ]
  },
  {
   "cell_type": "code",
   "execution_count": 67,
   "id": "1b00c409-96cf-41f4-a0f3-ed7114312f93",
   "metadata": {},
   "outputs": [
    {
     "data": {
      "text/plain": [
       "array(['Light', 'Non-smoker', 'Heavy'], dtype=object)"
      ]
     },
     "execution_count": 67,
     "metadata": {},
     "output_type": "execute_result"
    }
   ],
   "source": [
    "df2['smoking_level'].unique()"
   ]
  },
  {
   "cell_type": "code",
   "execution_count": 68,
   "id": "f6e5163d-b7be-4dc4-9433-2df85d10fe17",
   "metadata": {},
   "outputs": [
    {
     "name": "stderr",
     "output_type": "stream",
     "text": [
      "C:\\Users\\Lenovo\\AppData\\Local\\Temp\\ipykernel_16020\\550091831.py:8: SettingWithCopyWarning: \n",
      "A value is trying to be set on a copy of a slice from a DataFrame.\n",
      "Try using .loc[row_indexer,col_indexer] = value instead\n",
      "\n",
      "See the caveats in the documentation: https://pandas.pydata.org/pandas-docs/stable/user_guide/indexing.html#returning-a-view-versus-a-copy\n",
      "  df2['sleep_quality'] = df2['sleep_quality'].map(quality_mapping)\n"
     ]
    }
   ],
   "source": [
    "quality_mapping = {\n",
    "    'Poor': 0,\n",
    "    'Fair': 1,\n",
    "    'Good': 2,\n",
    "    'Excellent': 3\n",
    "}\n",
    "\n",
    "df2['sleep_quality'] = df2['sleep_quality'].map(quality_mapping)"
   ]
  },
  {
   "cell_type": "code",
   "execution_count": 45,
   "id": "f337d18b-d7c8-4675-af1b-0d4a7520d797",
   "metadata": {},
   "outputs": [
    {
     "data": {
      "text/plain": [
       "array([2, 0, 1, 3])"
      ]
     },
     "execution_count": 45,
     "metadata": {},
     "output_type": "execute_result"
    }
   ],
   "source": [
    "df2['sleep_quality'].unique()  "
   ]
  },
  {
   "cell_type": "code",
   "execution_count": 46,
   "id": "f781ea06-d86c-4ead-ae61-32f240ada95f",
   "metadata": {},
   "outputs": [
    {
     "data": {
      "text/plain": [
       "array(['Female', 'Male'], dtype=object)"
      ]
     },
     "execution_count": 46,
     "metadata": {},
     "output_type": "execute_result"
    }
   ],
   "source": [
    "df2['gender'].unique()  "
   ]
  },
  {
   "cell_type": "code",
   "execution_count": 47,
   "id": "e25af5ce-7994-43ce-bc32-df040b2c307f",
   "metadata": {},
   "outputs": [
    {
     "data": {
      "text/plain": [
       "array(['Female', 'Male'], dtype=object)"
      ]
     },
     "execution_count": 47,
     "metadata": {},
     "output_type": "execute_result"
    }
   ],
   "source": [
    "df2['gender'].unique()  "
   ]
  },
  {
   "cell_type": "code",
   "execution_count": 48,
   "id": "971a00e6-6c9d-46b9-b69f-2f510e53c7ef",
   "metadata": {},
   "outputs": [
    {
     "name": "stderr",
     "output_type": "stream",
     "text": [
      "C:\\Users\\Lenovo\\AppData\\Local\\Temp\\ipykernel_16020\\2631655858.py:6: SettingWithCopyWarning: \n",
      "A value is trying to be set on a copy of a slice from a DataFrame.\n",
      "Try using .loc[row_indexer,col_indexer] = value instead\n",
      "\n",
      "See the caveats in the documentation: https://pandas.pydata.org/pandas-docs/stable/user_guide/indexing.html#returning-a-view-versus-a-copy\n",
      "  df2['alcohol_consumption'] = df2['alcohol_consumption'].map(alcohol_mapping)\n"
     ]
    }
   ],
   "source": [
    "alcohol_mapping = {\n",
    "    'Regularly': 1,\n",
    "    'Occasionally': 0\n",
    "}\n",
    "\n",
    "df2['alcohol_consumption'] = df2['alcohol_consumption'].map(alcohol_mapping)\n"
   ]
  },
  {
   "cell_type": "code",
   "execution_count": 49,
   "id": "c62ec4ac-cb01-4c75-a721-e79387593f0d",
   "metadata": {},
   "outputs": [
    {
     "data": {
      "text/plain": [
       "array([1, 0])"
      ]
     },
     "execution_count": 49,
     "metadata": {},
     "output_type": "execute_result"
    }
   ],
   "source": [
    "df2['alcohol_consumption'].unique()"
   ]
  },
  {
   "cell_type": "code",
   "execution_count": 50,
   "id": "fbc1842d-9d57-489b-8fff-58f76faaebdf",
   "metadata": {},
   "outputs": [
    {
     "data": {
      "text/plain": [
       "array(['No', 'Yes'], dtype=object)"
      ]
     },
     "execution_count": 50,
     "metadata": {},
     "output_type": "execute_result"
    }
   ],
   "source": [
    "df2['pet_owner'].unique()"
   ]
  },
  {
   "cell_type": "code",
   "execution_count": 25,
   "id": "83a906d1-ff89-4af9-aac7-c121636d57aa",
   "metadata": {},
   "outputs": [
    {
     "name": "stderr",
     "output_type": "stream",
     "text": [
      "C:\\Users\\Lenovo\\AppData\\Local\\Temp\\ipykernel_16020\\4213254196.py:6: SettingWithCopyWarning: \n",
      "A value is trying to be set on a copy of a slice from a DataFrame.\n",
      "Try using .loc[row_indexer,col_indexer] = value instead\n",
      "\n",
      "See the caveats in the documentation: https://pandas.pydata.org/pandas-docs/stable/user_guide/indexing.html#returning-a-view-versus-a-copy\n",
      "  df2['pet_owner'] = df2['pet_owner'].map(pet_owner_mapping)\n"
     ]
    }
   ],
   "source": [
    "pet_owner_mapping = {\n",
    "    'No': 0,\n",
    "    'Yes': 1\n",
    "}\n",
    "\n",
    "df2['pet_owner'] = df2['pet_owner'].map(pet_owner_mapping)"
   ]
  },
  {
   "cell_type": "code",
   "execution_count": 26,
   "id": "12a3a337-69b3-4600-b90a-426bcadc7ac7",
   "metadata": {},
   "outputs": [
    {
     "data": {
      "text/plain": [
       "array([0, 1])"
      ]
     },
     "execution_count": 26,
     "metadata": {},
     "output_type": "execute_result"
    }
   ],
   "source": [
    "df2['pet_owner'].unique()"
   ]
  },
  {
   "cell_type": "code",
   "execution_count": null,
   "id": "e6db78b1-8d4e-4625-a65f-63c6dd1ca34e",
   "metadata": {},
   "outputs": [],
   "source": [
    "df"
   ]
  },
  {
   "cell_type": "code",
   "execution_count": 69,
   "id": "a0f6f594-9c40-46b8-9555-7249c89c4d8b",
   "metadata": {},
   "outputs": [
    {
     "ename": "TypeError",
     "evalue": "ufunc 'isfinite' not supported for the input types, and the inputs could not be safely coerced to any supported types according to the casting rule ''safe''",
     "output_type": "error",
     "traceback": [
      "\u001b[31m---------------------------------------------------------------------------\u001b[39m",
      "\u001b[31mTypeError\u001b[39m                                 Traceback (most recent call last)",
      "\u001b[36mCell\u001b[39m\u001b[36m \u001b[39m\u001b[32mIn[69]\u001b[39m\u001b[32m, line 23\u001b[39m\n\u001b[32m     21\u001b[39m vif_data = pd.DataFrame()\n\u001b[32m     22\u001b[39m vif_data[\u001b[33m\"\u001b[39m\u001b[33mfeature\u001b[39m\u001b[33m\"\u001b[39m] = df_encoded.columns\n\u001b[32m---> \u001b[39m\u001b[32m23\u001b[39m vif_data[\u001b[33m\"\u001b[39m\u001b[33mVIF\u001b[39m\u001b[33m\"\u001b[39m] = [variance_inflation_factor(df_encoded.values, i)\n\u001b[32m     24\u001b[39m                    \u001b[38;5;28;01mfor\u001b[39;00m i \u001b[38;5;129;01min\u001b[39;00m \u001b[38;5;28mrange\u001b[39m(df_encoded.shape[\u001b[32m1\u001b[39m])]\n\u001b[32m     26\u001b[39m \u001b[38;5;66;03m# Sort by VIF\u001b[39;00m\n\u001b[32m     27\u001b[39m vif_data = vif_data.sort_values(\u001b[33m\"\u001b[39m\u001b[33mVIF\u001b[39m\u001b[33m\"\u001b[39m, ascending=\u001b[38;5;28;01mFalse\u001b[39;00m)\n",
      "\u001b[36mFile \u001b[39m\u001b[32m~\\anaconda3\\envs\\bas_new\\Lib\\site-packages\\statsmodels\\stats\\outliers_influence.py:196\u001b[39m, in \u001b[36mvariance_inflation_factor\u001b[39m\u001b[34m(exog, exog_idx)\u001b[39m\n\u001b[32m    194\u001b[39m mask = np.arange(k_vars) != exog_idx\n\u001b[32m    195\u001b[39m x_noti = exog[:, mask]\n\u001b[32m--> \u001b[39m\u001b[32m196\u001b[39m r_squared_i = OLS(x_i, x_noti).fit().rsquared\n\u001b[32m    197\u001b[39m vif = \u001b[32m1.\u001b[39m / (\u001b[32m1.\u001b[39m - r_squared_i)\n\u001b[32m    198\u001b[39m \u001b[38;5;28;01mreturn\u001b[39;00m vif\n",
      "\u001b[36mFile \u001b[39m\u001b[32m~\\anaconda3\\envs\\bas_new\\Lib\\site-packages\\statsmodels\\regression\\linear_model.py:921\u001b[39m, in \u001b[36mOLS.__init__\u001b[39m\u001b[34m(self, endog, exog, missing, hasconst, **kwargs)\u001b[39m\n\u001b[32m    918\u001b[39m     msg = (\u001b[33m\"\u001b[39m\u001b[33mWeights are not supported in OLS and will be ignored\u001b[39m\u001b[33m\"\u001b[39m\n\u001b[32m    919\u001b[39m            \u001b[33m\"\u001b[39m\u001b[33mAn exception will be raised in the next version.\u001b[39m\u001b[33m\"\u001b[39m)\n\u001b[32m    920\u001b[39m     warnings.warn(msg, ValueWarning)\n\u001b[32m--> \u001b[39m\u001b[32m921\u001b[39m \u001b[38;5;28msuper\u001b[39m().\u001b[34m__init__\u001b[39m(endog, exog, missing=missing,\n\u001b[32m    922\u001b[39m                           hasconst=hasconst, **kwargs)\n\u001b[32m    923\u001b[39m \u001b[38;5;28;01mif\u001b[39;00m \u001b[33m\"\u001b[39m\u001b[33mweights\u001b[39m\u001b[33m\"\u001b[39m \u001b[38;5;129;01min\u001b[39;00m \u001b[38;5;28mself\u001b[39m._init_keys:\n\u001b[32m    924\u001b[39m     \u001b[38;5;28mself\u001b[39m._init_keys.remove(\u001b[33m\"\u001b[39m\u001b[33mweights\u001b[39m\u001b[33m\"\u001b[39m)\n",
      "\u001b[36mFile \u001b[39m\u001b[32m~\\anaconda3\\envs\\bas_new\\Lib\\site-packages\\statsmodels\\regression\\linear_model.py:746\u001b[39m, in \u001b[36mWLS.__init__\u001b[39m\u001b[34m(self, endog, exog, weights, missing, hasconst, **kwargs)\u001b[39m\n\u001b[32m    744\u001b[39m \u001b[38;5;28;01melse\u001b[39;00m:\n\u001b[32m    745\u001b[39m     weights = weights.squeeze()\n\u001b[32m--> \u001b[39m\u001b[32m746\u001b[39m \u001b[38;5;28msuper\u001b[39m().\u001b[34m__init__\u001b[39m(endog, exog, missing=missing,\n\u001b[32m    747\u001b[39m                           weights=weights, hasconst=hasconst, **kwargs)\n\u001b[32m    748\u001b[39m nobs = \u001b[38;5;28mself\u001b[39m.exog.shape[\u001b[32m0\u001b[39m]\n\u001b[32m    749\u001b[39m weights = \u001b[38;5;28mself\u001b[39m.weights\n",
      "\u001b[36mFile \u001b[39m\u001b[32m~\\anaconda3\\envs\\bas_new\\Lib\\site-packages\\statsmodels\\regression\\linear_model.py:200\u001b[39m, in \u001b[36mRegressionModel.__init__\u001b[39m\u001b[34m(self, endog, exog, **kwargs)\u001b[39m\n\u001b[32m    199\u001b[39m \u001b[38;5;28;01mdef\u001b[39;00m\u001b[38;5;250m \u001b[39m\u001b[34m__init__\u001b[39m(\u001b[38;5;28mself\u001b[39m, endog, exog, **kwargs):\n\u001b[32m--> \u001b[39m\u001b[32m200\u001b[39m     \u001b[38;5;28msuper\u001b[39m().\u001b[34m__init__\u001b[39m(endog, exog, **kwargs)\n\u001b[32m    201\u001b[39m     \u001b[38;5;28mself\u001b[39m.pinv_wexog: Float64Array | \u001b[38;5;28;01mNone\u001b[39;00m = \u001b[38;5;28;01mNone\u001b[39;00m\n\u001b[32m    202\u001b[39m     \u001b[38;5;28mself\u001b[39m._data_attr.extend([\u001b[33m'\u001b[39m\u001b[33mpinv_wexog\u001b[39m\u001b[33m'\u001b[39m, \u001b[33m'\u001b[39m\u001b[33mwendog\u001b[39m\u001b[33m'\u001b[39m, \u001b[33m'\u001b[39m\u001b[33mwexog\u001b[39m\u001b[33m'\u001b[39m, \u001b[33m'\u001b[39m\u001b[33mweights\u001b[39m\u001b[33m'\u001b[39m])\n",
      "\u001b[36mFile \u001b[39m\u001b[32m~\\anaconda3\\envs\\bas_new\\Lib\\site-packages\\statsmodels\\base\\model.py:270\u001b[39m, in \u001b[36mLikelihoodModel.__init__\u001b[39m\u001b[34m(self, endog, exog, **kwargs)\u001b[39m\n\u001b[32m    269\u001b[39m \u001b[38;5;28;01mdef\u001b[39;00m\u001b[38;5;250m \u001b[39m\u001b[34m__init__\u001b[39m(\u001b[38;5;28mself\u001b[39m, endog, exog=\u001b[38;5;28;01mNone\u001b[39;00m, **kwargs):\n\u001b[32m--> \u001b[39m\u001b[32m270\u001b[39m     \u001b[38;5;28msuper\u001b[39m().\u001b[34m__init__\u001b[39m(endog, exog, **kwargs)\n\u001b[32m    271\u001b[39m     \u001b[38;5;28mself\u001b[39m.initialize()\n",
      "\u001b[36mFile \u001b[39m\u001b[32m~\\anaconda3\\envs\\bas_new\\Lib\\site-packages\\statsmodels\\base\\model.py:95\u001b[39m, in \u001b[36mModel.__init__\u001b[39m\u001b[34m(self, endog, exog, **kwargs)\u001b[39m\n\u001b[32m     93\u001b[39m missing = kwargs.pop(\u001b[33m'\u001b[39m\u001b[33mmissing\u001b[39m\u001b[33m'\u001b[39m, \u001b[33m'\u001b[39m\u001b[33mnone\u001b[39m\u001b[33m'\u001b[39m)\n\u001b[32m     94\u001b[39m hasconst = kwargs.pop(\u001b[33m'\u001b[39m\u001b[33mhasconst\u001b[39m\u001b[33m'\u001b[39m, \u001b[38;5;28;01mNone\u001b[39;00m)\n\u001b[32m---> \u001b[39m\u001b[32m95\u001b[39m \u001b[38;5;28mself\u001b[39m.data = \u001b[38;5;28mself\u001b[39m._handle_data(endog, exog, missing, hasconst,\n\u001b[32m     96\u001b[39m                               **kwargs)\n\u001b[32m     97\u001b[39m \u001b[38;5;28mself\u001b[39m.k_constant = \u001b[38;5;28mself\u001b[39m.data.k_constant\n\u001b[32m     98\u001b[39m \u001b[38;5;28mself\u001b[39m.exog = \u001b[38;5;28mself\u001b[39m.data.exog\n",
      "\u001b[36mFile \u001b[39m\u001b[32m~\\anaconda3\\envs\\bas_new\\Lib\\site-packages\\statsmodels\\base\\model.py:135\u001b[39m, in \u001b[36mModel._handle_data\u001b[39m\u001b[34m(self, endog, exog, missing, hasconst, **kwargs)\u001b[39m\n\u001b[32m    134\u001b[39m \u001b[38;5;28;01mdef\u001b[39;00m\u001b[38;5;250m \u001b[39m\u001b[34m_handle_data\u001b[39m(\u001b[38;5;28mself\u001b[39m, endog, exog, missing, hasconst, **kwargs):\n\u001b[32m--> \u001b[39m\u001b[32m135\u001b[39m     data = handle_data(endog, exog, missing, hasconst, **kwargs)\n\u001b[32m    136\u001b[39m     \u001b[38;5;66;03m# kwargs arrays could have changed, easier to just attach here\u001b[39;00m\n\u001b[32m    137\u001b[39m     \u001b[38;5;28;01mfor\u001b[39;00m key \u001b[38;5;129;01min\u001b[39;00m kwargs:\n",
      "\u001b[36mFile \u001b[39m\u001b[32m~\\anaconda3\\envs\\bas_new\\Lib\\site-packages\\statsmodels\\base\\data.py:675\u001b[39m, in \u001b[36mhandle_data\u001b[39m\u001b[34m(endog, exog, missing, hasconst, **kwargs)\u001b[39m\n\u001b[32m    672\u001b[39m     exog = np.asarray(exog)\n\u001b[32m    674\u001b[39m klass = handle_data_class_factory(endog, exog)\n\u001b[32m--> \u001b[39m\u001b[32m675\u001b[39m \u001b[38;5;28;01mreturn\u001b[39;00m klass(endog, exog=exog, missing=missing, hasconst=hasconst,\n\u001b[32m    676\u001b[39m              **kwargs)\n",
      "\u001b[36mFile \u001b[39m\u001b[32m~\\anaconda3\\envs\\bas_new\\Lib\\site-packages\\statsmodels\\base\\data.py:88\u001b[39m, in \u001b[36mModelData.__init__\u001b[39m\u001b[34m(self, endog, exog, missing, hasconst, **kwargs)\u001b[39m\n\u001b[32m     86\u001b[39m \u001b[38;5;28mself\u001b[39m.const_idx = \u001b[38;5;28;01mNone\u001b[39;00m\n\u001b[32m     87\u001b[39m \u001b[38;5;28mself\u001b[39m.k_constant = \u001b[32m0\u001b[39m\n\u001b[32m---> \u001b[39m\u001b[32m88\u001b[39m \u001b[38;5;28mself\u001b[39m._handle_constant(hasconst)\n\u001b[32m     89\u001b[39m \u001b[38;5;28mself\u001b[39m._check_integrity()\n\u001b[32m     90\u001b[39m \u001b[38;5;28mself\u001b[39m._cache = {}\n",
      "\u001b[36mFile \u001b[39m\u001b[32m~\\anaconda3\\envs\\bas_new\\Lib\\site-packages\\statsmodels\\base\\data.py:133\u001b[39m, in \u001b[36mModelData._handle_constant\u001b[39m\u001b[34m(self, hasconst)\u001b[39m\n\u001b[32m    131\u001b[39m check_implicit = \u001b[38;5;28;01mFalse\u001b[39;00m\n\u001b[32m    132\u001b[39m exog_max = np.max(\u001b[38;5;28mself\u001b[39m.exog, axis=\u001b[32m0\u001b[39m)\n\u001b[32m--> \u001b[39m\u001b[32m133\u001b[39m \u001b[38;5;28;01mif\u001b[39;00m \u001b[38;5;129;01mnot\u001b[39;00m np.isfinite(exog_max).all():\n\u001b[32m    134\u001b[39m     \u001b[38;5;28;01mraise\u001b[39;00m MissingDataError(\u001b[33m'\u001b[39m\u001b[33mexog contains inf or nans\u001b[39m\u001b[33m'\u001b[39m)\n\u001b[32m    135\u001b[39m exog_min = np.min(\u001b[38;5;28mself\u001b[39m.exog, axis=\u001b[32m0\u001b[39m)\n",
      "\u001b[31mTypeError\u001b[39m: ufunc 'isfinite' not supported for the input types, and the inputs could not be safely coerced to any supported types according to the casting rule ''safe''"
     ]
    }
   ],
   "source": [
    "import pandas as pd\n",
    "from statsmodels.stats.outliers_influence import variance_inflation_factor\n",
    "from sklearn.preprocessing import OneHotEncoder\n",
    "\n",
    "\n",
    "categorical_columns = [\n",
    "    'gender', 'sleep_quality', 'alcohol_consumption', 'smoking_level',\n",
    "    'stress_level', 'mental_health_score', 'mental_health_support',\n",
    "    'job_type', 'diet_type', 'exercise_type', 'healthcare_access',\n",
    "    'sunlight_exposure', 'meals_per_day', 'caffeine_intake',\n",
    "    'family_history', 'pet_owner'\n",
    "]\n",
    "\n",
    "# Drop missing values\n",
    "df2 = df[categorical_columns].dropna()\n",
    "\n",
    "# One-hot encode categorical variables\n",
    "df_encoded = pd.get_dummies(df2, drop_first=True)\n",
    "\n",
    "# Create a DataFrame to store VIF values\n",
    "vif_data = pd.DataFrame()\n",
    "vif_data[\"feature\"] = df_encoded.columns\n",
    "vif_data[\"VIF\"] = [variance_inflation_factor(df_encoded.values, i)\n",
    "                   for i in range(df_encoded.shape[1])]\n",
    "\n",
    "# Sort by VIF\n",
    "vif_data = vif_data.sort_values(\"VIF\", ascending=False)\n",
    "\n",
    "# Show results\n",
    "print(vif_data)"
   ]
  },
  {
   "cell_type": "code",
   "execution_count": null,
   "id": "4405e4b3-f5e3-4faa-9496-459be2083323",
   "metadata": {},
   "outputs": [],
   "source": []
  }
 ],
 "metadata": {
  "kernelspec": {
   "display_name": "bas_new",
   "language": "python",
   "name": "bas_new"
  },
  "language_info": {
   "codemirror_mode": {
    "name": "ipython",
    "version": 3
   },
   "file_extension": ".py",
   "mimetype": "text/x-python",
   "name": "python",
   "nbconvert_exporter": "python",
   "pygments_lexer": "ipython3",
   "version": "3.12.3"
  }
 },
 "nbformat": 4,
 "nbformat_minor": 5
}
