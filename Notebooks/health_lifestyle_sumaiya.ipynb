{
 "cells": [
  {
   "cell_type": "code",
   "execution_count": 96,
   "id": "cf04508c-5888-4f86-82c4-06cb0c96ca6b",
   "metadata": {},
   "outputs": [
    {
     "data": {
      "text/html": [
       "<div>\n",
       "<style scoped>\n",
       "    .dataframe tbody tr th:only-of-type {\n",
       "        vertical-align: middle;\n",
       "    }\n",
       "\n",
       "    .dataframe tbody tr th {\n",
       "        vertical-align: top;\n",
       "    }\n",
       "\n",
       "    .dataframe thead th {\n",
       "        text-align: right;\n",
       "    }\n",
       "</style>\n",
       "<table border=\"1\" class=\"dataframe\">\n",
       "  <thead>\n",
       "    <tr style=\"text-align: right;\">\n",
       "      <th></th>\n",
       "      <th>survey_code</th>\n",
       "      <th>age</th>\n",
       "      <th>gender</th>\n",
       "      <th>height</th>\n",
       "      <th>weight</th>\n",
       "      <th>bmi</th>\n",
       "      <th>bmi_estimated</th>\n",
       "      <th>bmi_scaled</th>\n",
       "      <th>bmi_corrected</th>\n",
       "      <th>waist_size</th>\n",
       "      <th>...</th>\n",
       "      <th>sunlight_exposure</th>\n",
       "      <th>meals_per_day</th>\n",
       "      <th>caffeine_intake</th>\n",
       "      <th>family_history</th>\n",
       "      <th>pet_owner</th>\n",
       "      <th>electrolyte_level</th>\n",
       "      <th>gene_marker_flag</th>\n",
       "      <th>environmental_risk_score</th>\n",
       "      <th>daily_supplement_dosage</th>\n",
       "      <th>target</th>\n",
       "    </tr>\n",
       "  </thead>\n",
       "  <tbody>\n",
       "    <tr>\n",
       "      <th>0</th>\n",
       "      <td>1</td>\n",
       "      <td>56</td>\n",
       "      <td>Male</td>\n",
       "      <td>173.416872</td>\n",
       "      <td>56.886640</td>\n",
       "      <td>18.915925</td>\n",
       "      <td>18.915925</td>\n",
       "      <td>56.747776</td>\n",
       "      <td>18.989117</td>\n",
       "      <td>72.165130</td>\n",
       "      <td>...</td>\n",
       "      <td>High</td>\n",
       "      <td>5</td>\n",
       "      <td>Moderate</td>\n",
       "      <td>No</td>\n",
       "      <td>Yes</td>\n",
       "      <td>0</td>\n",
       "      <td>1.0</td>\n",
       "      <td>5.5</td>\n",
       "      <td>-2.275502</td>\n",
       "      <td>healthy</td>\n",
       "    </tr>\n",
       "    <tr>\n",
       "      <th>1</th>\n",
       "      <td>2</td>\n",
       "      <td>69</td>\n",
       "      <td>Female</td>\n",
       "      <td>163.207380</td>\n",
       "      <td>97.799859</td>\n",
       "      <td>36.716278</td>\n",
       "      <td>36.716278</td>\n",
       "      <td>110.148833</td>\n",
       "      <td>36.511417</td>\n",
       "      <td>85.598889</td>\n",
       "      <td>...</td>\n",
       "      <td>High</td>\n",
       "      <td>5</td>\n",
       "      <td>High</td>\n",
       "      <td>Yes</td>\n",
       "      <td>No</td>\n",
       "      <td>0</td>\n",
       "      <td>1.0</td>\n",
       "      <td>5.5</td>\n",
       "      <td>6.239340</td>\n",
       "      <td>healthy</td>\n",
       "    </tr>\n",
       "    <tr>\n",
       "      <th>2</th>\n",
       "      <td>3</td>\n",
       "      <td>46</td>\n",
       "      <td>Male</td>\n",
       "      <td>177.281966</td>\n",
       "      <td>80.687562</td>\n",
       "      <td>25.673050</td>\n",
       "      <td>25.673050</td>\n",
       "      <td>77.019151</td>\n",
       "      <td>25.587429</td>\n",
       "      <td>90.295030</td>\n",
       "      <td>...</td>\n",
       "      <td>High</td>\n",
       "      <td>4</td>\n",
       "      <td>Moderate</td>\n",
       "      <td>No</td>\n",
       "      <td>No</td>\n",
       "      <td>0</td>\n",
       "      <td>1.0</td>\n",
       "      <td>5.5</td>\n",
       "      <td>5.423737</td>\n",
       "      <td>healthy</td>\n",
       "    </tr>\n",
       "    <tr>\n",
       "      <th>3</th>\n",
       "      <td>4</td>\n",
       "      <td>32</td>\n",
       "      <td>Female</td>\n",
       "      <td>172.101255</td>\n",
       "      <td>63.142868</td>\n",
       "      <td>21.318480</td>\n",
       "      <td>21.318480</td>\n",
       "      <td>63.955440</td>\n",
       "      <td>21.177109</td>\n",
       "      <td>100.504211</td>\n",
       "      <td>...</td>\n",
       "      <td>High</td>\n",
       "      <td>1</td>\n",
       "      <td>NaN</td>\n",
       "      <td>No</td>\n",
       "      <td>Yes</td>\n",
       "      <td>0</td>\n",
       "      <td>1.0</td>\n",
       "      <td>5.5</td>\n",
       "      <td>8.388611</td>\n",
       "      <td>healthy</td>\n",
       "    </tr>\n",
       "    <tr>\n",
       "      <th>4</th>\n",
       "      <td>5</td>\n",
       "      <td>60</td>\n",
       "      <td>Female</td>\n",
       "      <td>163.608816</td>\n",
       "      <td>40.000000</td>\n",
       "      <td>14.943302</td>\n",
       "      <td>14.943302</td>\n",
       "      <td>44.829907</td>\n",
       "      <td>14.844299</td>\n",
       "      <td>69.021150</td>\n",
       "      <td>...</td>\n",
       "      <td>High</td>\n",
       "      <td>1</td>\n",
       "      <td>High</td>\n",
       "      <td>Yes</td>\n",
       "      <td>Yes</td>\n",
       "      <td>0</td>\n",
       "      <td>1.0</td>\n",
       "      <td>5.5</td>\n",
       "      <td>0.332622</td>\n",
       "      <td>healthy</td>\n",
       "    </tr>\n",
       "  </tbody>\n",
       "</table>\n",
       "<p>5 rows × 48 columns</p>\n",
       "</div>"
      ],
      "text/plain": [
       "   survey_code  age  gender      height     weight        bmi  bmi_estimated  \\\n",
       "0            1   56    Male  173.416872  56.886640  18.915925      18.915925   \n",
       "1            2   69  Female  163.207380  97.799859  36.716278      36.716278   \n",
       "2            3   46    Male  177.281966  80.687562  25.673050      25.673050   \n",
       "3            4   32  Female  172.101255  63.142868  21.318480      21.318480   \n",
       "4            5   60  Female  163.608816  40.000000  14.943302      14.943302   \n",
       "\n",
       "   bmi_scaled  bmi_corrected  waist_size  ...  sunlight_exposure  \\\n",
       "0   56.747776      18.989117   72.165130  ...               High   \n",
       "1  110.148833      36.511417   85.598889  ...               High   \n",
       "2   77.019151      25.587429   90.295030  ...               High   \n",
       "3   63.955440      21.177109  100.504211  ...               High   \n",
       "4   44.829907      14.844299   69.021150  ...               High   \n",
       "\n",
       "   meals_per_day  caffeine_intake  family_history  pet_owner  \\\n",
       "0              5         Moderate              No        Yes   \n",
       "1              5             High             Yes         No   \n",
       "2              4         Moderate              No         No   \n",
       "3              1              NaN              No        Yes   \n",
       "4              1             High             Yes        Yes   \n",
       "\n",
       "   electrolyte_level gene_marker_flag  environmental_risk_score  \\\n",
       "0                  0              1.0                       5.5   \n",
       "1                  0              1.0                       5.5   \n",
       "2                  0              1.0                       5.5   \n",
       "3                  0              1.0                       5.5   \n",
       "4                  0              1.0                       5.5   \n",
       "\n",
       "   daily_supplement_dosage   target  \n",
       "0                -2.275502  healthy  \n",
       "1                 6.239340  healthy  \n",
       "2                 5.423737  healthy  \n",
       "3                 8.388611  healthy  \n",
       "4                 0.332622  healthy  \n",
       "\n",
       "[5 rows x 48 columns]"
      ]
     },
     "execution_count": 96,
     "metadata": {},
     "output_type": "execute_result"
    }
   ],
   "source": [
    "import pandas as pd\n",
    "\n",
    "df = pd.read_csv(\"health_lifestyle_classification.csv\")\n",
    "df.head()\n"
   ]
  },
  {
   "cell_type": "code",
   "execution_count": 97,
   "id": "a0fa26f9-a359-4352-9260-d5cc2975f42c",
   "metadata": {},
   "outputs": [
    {
     "data": {
      "text/plain": [
       "Index(['survey_code', 'age', 'gender', 'height', 'weight', 'bmi',\n",
       "       'bmi_estimated', 'bmi_scaled', 'bmi_corrected', 'waist_size',\n",
       "       'blood_pressure', 'heart_rate', 'cholesterol', 'glucose', 'insulin',\n",
       "       'sleep_hours', 'sleep_quality', 'work_hours', 'physical_activity',\n",
       "       'daily_steps', 'calorie_intake', 'sugar_intake', 'alcohol_consumption',\n",
       "       'smoking_level', 'water_intake', 'screen_time', 'stress_level',\n",
       "       'mental_health_score', 'mental_health_support', 'education_level',\n",
       "       'job_type', 'occupation', 'income', 'diet_type', 'exercise_type',\n",
       "       'device_usage', 'healthcare_access', 'insurance', 'sunlight_exposure',\n",
       "       'meals_per_day', 'caffeine_intake', 'family_history', 'pet_owner',\n",
       "       'electrolyte_level', 'gene_marker_flag', 'environmental_risk_score',\n",
       "       'daily_supplement_dosage', 'target'],\n",
       "      dtype='object')"
      ]
     },
     "execution_count": 97,
     "metadata": {},
     "output_type": "execute_result"
    }
   ],
   "source": [
    "# 1. Clean column names (strip whitespace, lowercase)\n",
    "df.columns = df.columns.str.strip().str.lower()\n",
    "df.columns"
   ]
  },
  {
   "cell_type": "code",
   "execution_count": 98,
   "id": "c7fd4de5-e7e5-4457-8f85-c4dcc83a0f0e",
   "metadata": {},
   "outputs": [
    {
     "name": "stdout",
     "output_type": "stream",
     "text": [
      "Missing values per column:\n",
      "survey_code                     0\n",
      "age                             0\n",
      "gender                          0\n",
      "height                          0\n",
      "weight                          0\n",
      "bmi                             0\n",
      "bmi_estimated                   0\n",
      "bmi_scaled                      0\n",
      "bmi_corrected                   0\n",
      "waist_size                      0\n",
      "blood_pressure               7669\n",
      "heart_rate                  14003\n",
      "cholesterol                     0\n",
      "glucose                         0\n",
      "insulin                     15836\n",
      "sleep_hours                     0\n",
      "sleep_quality                   0\n",
      "work_hours                      0\n",
      "physical_activity               0\n",
      "daily_steps                  8329\n",
      "calorie_intake                  0\n",
      "sugar_intake                    0\n",
      "alcohol_consumption         42387\n",
      "smoking_level                   0\n",
      "water_intake                    0\n",
      "screen_time                     0\n",
      "stress_level                    0\n",
      "mental_health_score             0\n",
      "mental_health_support           0\n",
      "education_level                 0\n",
      "job_type                        0\n",
      "occupation                      0\n",
      "income                       8470\n",
      "diet_type                       0\n",
      "exercise_type               24969\n",
      "device_usage                    0\n",
      "healthcare_access               0\n",
      "insurance                       0\n",
      "sunlight_exposure               0\n",
      "meals_per_day                   0\n",
      "caffeine_intake             33261\n",
      "family_history                  0\n",
      "pet_owner                       0\n",
      "electrolyte_level               0\n",
      "gene_marker_flag            10474\n",
      "environmental_risk_score        0\n",
      "daily_supplement_dosage         0\n",
      "target                          0\n",
      "dtype: int64\n"
     ]
    }
   ],
   "source": [
    "# 2. Check for missing values\n",
    "print(\"Missing values per column:\")\n",
    "print(df.isnull().sum())"
   ]
  },
  {
   "cell_type": "code",
   "execution_count": 99,
   "id": "4d2ab241-a66d-458b-91a8-9504e7fffbfb",
   "metadata": {},
   "outputs": [
    {
     "name": "stdout",
     "output_type": "stream",
     "text": [
      "<class 'pandas.core.frame.DataFrame'>\n",
      "RangeIndex: 100000 entries, 0 to 99999\n",
      "Data columns (total 39 columns):\n",
      " #   Column                    Non-Null Count   Dtype  \n",
      "---  ------                    --------------   -----  \n",
      " 0   survey_code               100000 non-null  int64  \n",
      " 1   age                       100000 non-null  int64  \n",
      " 2   gender                    100000 non-null  object \n",
      " 3   height                    100000 non-null  float64\n",
      " 4   weight                    100000 non-null  float64\n",
      " 5   bmi                       100000 non-null  float64\n",
      " 6   waist_size                100000 non-null  float64\n",
      " 7   blood_pressure            92331 non-null   float64\n",
      " 8   heart_rate                85997 non-null   float64\n",
      " 9   cholesterol               100000 non-null  float64\n",
      " 10  glucose                   100000 non-null  float64\n",
      " 11  insulin                   84164 non-null   float64\n",
      " 12  sleep_hours               100000 non-null  float64\n",
      " 13  sleep_quality             100000 non-null  object \n",
      " 14  work_hours                100000 non-null  float64\n",
      " 15  physical_activity         100000 non-null  float64\n",
      " 16  daily_steps               91671 non-null   float64\n",
      " 17  calorie_intake            100000 non-null  float64\n",
      " 18  sugar_intake              100000 non-null  float64\n",
      " 19  alcohol_consumption       57613 non-null   object \n",
      " 20  smoking_level             100000 non-null  object \n",
      " 21  water_intake              100000 non-null  float64\n",
      " 22  screen_time               100000 non-null  float64\n",
      " 23  stress_level              100000 non-null  int64  \n",
      " 24  mental_health_score       100000 non-null  int64  \n",
      " 25  mental_health_support     100000 non-null  object \n",
      " 26  job_type                  100000 non-null  object \n",
      " 27  diet_type                 100000 non-null  object \n",
      " 28  exercise_type             75031 non-null   object \n",
      " 29  device_usage              100000 non-null  object \n",
      " 30  healthcare_access         100000 non-null  object \n",
      " 31  sunlight_exposure         100000 non-null  object \n",
      " 32  meals_per_day             100000 non-null  int64  \n",
      " 33  caffeine_intake           66739 non-null   object \n",
      " 34  family_history            100000 non-null  object \n",
      " 35  pet_owner                 100000 non-null  object \n",
      " 36  environmental_risk_score  100000 non-null  float64\n",
      " 37  daily_supplement_dosage   100000 non-null  float64\n",
      " 38  target                    100000 non-null  object \n",
      "dtypes: float64(19), int64(5), object(15)\n",
      "memory usage: 29.8+ MB\n"
     ]
    }
   ],
   "source": [
    "# Example: drop columns named \n",
    "df = df.drop(['bmi_estimated', 'bmi_scaled', 'bmi_corrected', 'gene_marker_flag', 'insurance', 'occupation', 'electrolyte_level', 'education_level', 'income'], axis=1)\n",
    "df.info()\n"
   ]
  },
  {
   "cell_type": "code",
   "execution_count": 100,
   "id": "842c162f-35d5-41bb-b4f1-45d4a81432f9",
   "metadata": {},
   "outputs": [
    {
     "name": "stdout",
     "output_type": "stream",
     "text": [
      "<class 'pandas.core.frame.DataFrame'>\n",
      "Index: 17577 entries, 1 to 99998\n",
      "Data columns (total 39 columns):\n",
      " #   Column                    Non-Null Count  Dtype  \n",
      "---  ------                    --------------  -----  \n",
      " 0   survey_code               17577 non-null  int64  \n",
      " 1   age                       17577 non-null  int64  \n",
      " 2   gender                    17577 non-null  object \n",
      " 3   height                    17577 non-null  float64\n",
      " 4   weight                    17577 non-null  float64\n",
      " 5   bmi                       17577 non-null  float64\n",
      " 6   waist_size                17577 non-null  float64\n",
      " 7   blood_pressure            17577 non-null  float64\n",
      " 8   heart_rate                17577 non-null  float64\n",
      " 9   cholesterol               17577 non-null  float64\n",
      " 10  glucose                   17577 non-null  float64\n",
      " 11  insulin                   17577 non-null  float64\n",
      " 12  sleep_hours               17577 non-null  float64\n",
      " 13  sleep_quality             17577 non-null  object \n",
      " 14  work_hours                17577 non-null  float64\n",
      " 15  physical_activity         17577 non-null  float64\n",
      " 16  daily_steps               17577 non-null  float64\n",
      " 17  calorie_intake            17577 non-null  float64\n",
      " 18  sugar_intake              17577 non-null  float64\n",
      " 19  alcohol_consumption       17577 non-null  object \n",
      " 20  smoking_level             17577 non-null  object \n",
      " 21  water_intake              17577 non-null  float64\n",
      " 22  screen_time               17577 non-null  float64\n",
      " 23  stress_level              17577 non-null  int64  \n",
      " 24  mental_health_score       17577 non-null  int64  \n",
      " 25  mental_health_support     17577 non-null  object \n",
      " 26  job_type                  17577 non-null  object \n",
      " 27  diet_type                 17577 non-null  object \n",
      " 28  exercise_type             17577 non-null  object \n",
      " 29  device_usage              17577 non-null  object \n",
      " 30  healthcare_access         17577 non-null  object \n",
      " 31  sunlight_exposure         17577 non-null  object \n",
      " 32  meals_per_day             17577 non-null  int64  \n",
      " 33  caffeine_intake           17577 non-null  object \n",
      " 34  family_history            17577 non-null  object \n",
      " 35  pet_owner                 17577 non-null  object \n",
      " 36  environmental_risk_score  17577 non-null  float64\n",
      " 37  daily_supplement_dosage   17577 non-null  float64\n",
      " 38  target                    17577 non-null  object \n",
      "dtypes: float64(19), int64(5), object(15)\n",
      "memory usage: 5.4+ MB\n"
     ]
    }
   ],
   "source": [
    "df_health = df.dropna()\n",
    "df_health.info()"
   ]
  },
  {
   "cell_type": "code",
   "execution_count": 101,
   "id": "1f8b4a53-2c0d-42bd-b7a7-2c4d90939db5",
   "metadata": {},
   "outputs": [
    {
     "data": {
      "text/plain": [
       "array(['Female', 'Male'], dtype=object)"
      ]
     },
     "execution_count": 101,
     "metadata": {},
     "output_type": "execute_result"
    }
   ],
   "source": [
    "df_health['gender'].unique()\n"
   ]
  },
  {
   "cell_type": "code",
   "execution_count": null,
   "id": "a8612f0a-39b1-466d-8866-1f1f2ce6f7c8",
   "metadata": {},
   "outputs": [],
   "source": []
  },
  {
   "cell_type": "code",
   "execution_count": 102,
   "id": "0e2d3d9d-3b2c-412a-8976-b13b727b21fb",
   "metadata": {},
   "outputs": [
    {
     "data": {
      "text/plain": [
       "array(['Cardio', 'Strength', 'Mixed'], dtype=object)"
      ]
     },
     "execution_count": 102,
     "metadata": {},
     "output_type": "execute_result"
    }
   ],
   "source": [
    "df_health['exercise_type'].unique()"
   ]
  },
  {
   "cell_type": "code",
   "execution_count": 103,
   "id": "7f137225-c5c3-4d05-9c4a-00ad7e11c567",
   "metadata": {},
   "outputs": [
    {
     "name": "stderr",
     "output_type": "stream",
     "text": [
      "/var/folders/j0/mq_mr2hj0hl8xv4kfq895gk40000gn/T/ipykernel_13314/956613487.py:8: SettingWithCopyWarning: \n",
      "A value is trying to be set on a copy of a slice from a DataFrame.\n",
      "Try using .loc[row_indexer,col_indexer] = value instead\n",
      "\n",
      "See the caveats in the documentation: https://pandas.pydata.org/pandas-docs/stable/user_guide/indexing.html#returning-a-view-versus-a-copy\n",
      "  df_health['exercise_type_mapped'] = df_health['exercise_type'].map(exercise_map)\n"
     ]
    }
   ],
   "source": [
    "# Define the mapping\n",
    "exercise_map = {\n",
    "    'Cardio': 0,\n",
    "    'Strength': 1,\n",
    "    'Mixed': 2\n",
    "}\n",
    "\n",
    "df_health['exercise_type_mapped'] = df_health['exercise_type'].map(exercise_map)\n"
   ]
  },
  {
   "cell_type": "code",
   "execution_count": 104,
   "id": "f374a730-5387-49ef-969e-b25b6d8df59c",
   "metadata": {},
   "outputs": [
    {
     "data": {
      "text/plain": [
       "array(['Moderate', 'High', 'Low'], dtype=object)"
      ]
     },
     "execution_count": 104,
     "metadata": {},
     "output_type": "execute_result"
    }
   ],
   "source": [
    "df_health['device_usage'].unique()"
   ]
  },
  {
   "cell_type": "code",
   "execution_count": 105,
   "id": "28fe9611-929e-4a7d-966f-29e0c2b4578c",
   "metadata": {},
   "outputs": [
    {
     "name": "stderr",
     "output_type": "stream",
     "text": [
      "/var/folders/j0/mq_mr2hj0hl8xv4kfq895gk40000gn/T/ipykernel_13314/3754149290.py:7: SettingWithCopyWarning: \n",
      "A value is trying to be set on a copy of a slice from a DataFrame.\n",
      "Try using .loc[row_indexer,col_indexer] = value instead\n",
      "\n",
      "See the caveats in the documentation: https://pandas.pydata.org/pandas-docs/stable/user_guide/indexing.html#returning-a-view-versus-a-copy\n",
      "  df_health['device_usage_mapped'] = df_health['device_usage'].map(device_usage_map)\n"
     ]
    }
   ],
   "source": [
    "device_usage_map = {\n",
    "    'Low': 0,\n",
    "    'Medium': 1,\n",
    "    'High': 2\n",
    "}\n",
    "\n",
    "df_health['device_usage_mapped'] = df_health['device_usage'].map(device_usage_map)\n"
   ]
  },
  {
   "cell_type": "code",
   "execution_count": 106,
   "id": "995da038-8504-4857-bc57-eebdd4698b98",
   "metadata": {},
   "outputs": [
    {
     "data": {
      "text/plain": [
       "array(['Moderate', 'Poor', 'Good'], dtype=object)"
      ]
     },
     "execution_count": 106,
     "metadata": {},
     "output_type": "execute_result"
    }
   ],
   "source": [
    " df_health['healthcare_access'].unique()   "
   ]
  },
  {
   "cell_type": "code",
   "execution_count": 107,
   "id": "5c892efa-a84a-45dd-9e5f-ead45646d071",
   "metadata": {},
   "outputs": [
    {
     "name": "stderr",
     "output_type": "stream",
     "text": [
      "/var/folders/j0/mq_mr2hj0hl8xv4kfq895gk40000gn/T/ipykernel_13314/4136624614.py:7: SettingWithCopyWarning: \n",
      "A value is trying to be set on a copy of a slice from a DataFrame.\n",
      "Try using .loc[row_indexer,col_indexer] = value instead\n",
      "\n",
      "See the caveats in the documentation: https://pandas.pydata.org/pandas-docs/stable/user_guide/indexing.html#returning-a-view-versus-a-copy\n",
      "  df_health['healthcare_access_mapped'] = df_health['healthcare_access'].map(healthcare_access_map)\n"
     ]
    }
   ],
   "source": [
    "healthcare_access_map = {\n",
    "    'Poor': 0,\n",
    "    'Moderate': 1,\n",
    "    'Good': 2\n",
    "}\n",
    "\n",
    "df_health['healthcare_access_mapped'] = df_health['healthcare_access'].map(healthcare_access_map)\n"
   ]
  },
  {
   "cell_type": "code",
   "execution_count": 108,
   "id": "39cc08d8-520c-4538-8af2-6fa25602129d",
   "metadata": {},
   "outputs": [
    {
     "data": {
      "text/plain": [
       "array(['High', 'Low', 'Moderate'], dtype=object)"
      ]
     },
     "execution_count": 108,
     "metadata": {},
     "output_type": "execute_result"
    }
   ],
   "source": [
    "df_health['sunlight_exposure'].unique()"
   ]
  },
  {
   "cell_type": "code",
   "execution_count": null,
   "id": "829d4c2e-4d33-4f36-973c-66970c45e1a8",
   "metadata": {},
   "outputs": [],
   "source": []
  },
  {
   "cell_type": "code",
   "execution_count": 112,
   "id": "a66d2995-dc1e-453b-a38e-88ad64ae6c8a",
   "metadata": {},
   "outputs": [
    {
     "name": "stderr",
     "output_type": "stream",
     "text": [
      "/var/folders/j0/mq_mr2hj0hl8xv4kfq895gk40000gn/T/ipykernel_13314/2508848788.py:8: SettingWithCopyWarning: \n",
      "A value is trying to be set on a copy of a slice from a DataFrame.\n",
      "Try using .loc[row_indexer,col_indexer] = value instead\n",
      "\n",
      "See the caveats in the documentation: https://pandas.pydata.org/pandas-docs/stable/user_guide/indexing.html#returning-a-view-versus-a-copy\n",
      "  df_health['sunlight_exposure_map'] = df_health['sunlight_exposure'].map(sunlight_exposure_map)\n"
     ]
    }
   ],
   "source": [
    "sunlight_exposure_map = {\n",
    "    'Low': 0,\n",
    "    'Moderate': 1,\n",
    "    'High': 2\n",
    "}\n",
    "\n",
    "# Example for two columns:\n",
    "df_health['sunlight_exposure_map'] = df_health['sunlight_exposure'].map(sunlight_exposure_map)\n",
    "\n"
   ]
  },
  {
   "cell_type": "code",
   "execution_count": null,
   "id": "bcb9c2d0-77a5-456b-86b5-5b3b50bb4c5e",
   "metadata": {},
   "outputs": [],
   "source": []
  },
  {
   "cell_type": "code",
   "execution_count": 75,
   "id": "0116d474-486f-4966-8bd8-3fb192d8c6c8",
   "metadata": {},
   "outputs": [],
   "source": [
    "# 3. Handle missing values\n",
    "\n",
    "for col in df.columns:\n",
    "    if df[col].dtype in ['float64', 'int64']:\n",
    "        df[col] = df[col].fillna(df[col].mean())\n",
    "    else:\n",
    "        df[col] = df[col].fillna(df[col].mode()[0])\n"
   ]
  },
  {
   "cell_type": "code",
   "execution_count": 60,
   "id": "b28c6141-1f68-44be-b475-93775cd09f34",
   "metadata": {},
   "outputs": [],
   "source": [
    "# 4. Remove duplicate rows\n",
    "df.drop_duplicates(inplace=True)"
   ]
  },
  {
   "cell_type": "code",
   "execution_count": 61,
   "id": "2a9dd01f-c2e1-4a8d-9d43-467a89513577",
   "metadata": {},
   "outputs": [],
   "source": [
    "# 5. (Optional) Remove rows with invalid or outlier data - customize as needed\n",
    "# Example: drop rows where 'age' is less than 0 or unrealistic\n",
    "if 'age' in df.columns:\n",
    "    df = df[df['age'] >= 0]\n"
   ]
  },
  {
   "cell_type": "code",
   "execution_count": 15,
   "id": "95ed1bff-21b3-4fdd-be92-0c1c11edeec7",
   "metadata": {},
   "outputs": [
    {
     "name": "stdout",
     "output_type": "stream",
     "text": [
      "After cleaning:\n",
      "<class 'pandas.core.frame.DataFrame'>\n",
      "RangeIndex: 100000 entries, 0 to 99999\n",
      "Data columns (total 48 columns):\n",
      " #   Column                    Non-Null Count   Dtype  \n",
      "---  ------                    --------------   -----  \n",
      " 0   survey_code               100000 non-null  int64  \n",
      " 1   age                       100000 non-null  int64  \n",
      " 2   gender                    100000 non-null  object \n",
      " 3   height                    100000 non-null  float64\n",
      " 4   weight                    100000 non-null  float64\n",
      " 5   bmi                       100000 non-null  float64\n",
      " 6   bmi_estimated             100000 non-null  float64\n",
      " 7   bmi_scaled                100000 non-null  float64\n",
      " 8   bmi_corrected             100000 non-null  float64\n",
      " 9   waist_size                100000 non-null  float64\n",
      " 10  blood_pressure            100000 non-null  float64\n",
      " 11  heart_rate                100000 non-null  float64\n",
      " 12  cholesterol               100000 non-null  float64\n",
      " 13  glucose                   100000 non-null  float64\n",
      " 14  insulin                   100000 non-null  float64\n",
      " 15  sleep_hours               100000 non-null  float64\n",
      " 16  sleep_quality             100000 non-null  object \n",
      " 17  work_hours                100000 non-null  float64\n",
      " 18  physical_activity         100000 non-null  float64\n",
      " 19  daily_steps               100000 non-null  float64\n",
      " 20  calorie_intake            100000 non-null  float64\n",
      " 21  sugar_intake              100000 non-null  float64\n",
      " 22  alcohol_consumption       100000 non-null  object \n",
      " 23  smoking_level             100000 non-null  object \n",
      " 24  water_intake              100000 non-null  float64\n",
      " 25  screen_time               100000 non-null  float64\n",
      " 26  stress_level              100000 non-null  int64  \n",
      " 27  mental_health_score       100000 non-null  int64  \n",
      " 28  mental_health_support     100000 non-null  object \n",
      " 29  education_level           100000 non-null  object \n",
      " 30  job_type                  100000 non-null  object \n",
      " 31  occupation                100000 non-null  object \n",
      " 32  income                    100000 non-null  float64\n",
      " 33  diet_type                 100000 non-null  object \n",
      " 34  exercise_type             100000 non-null  object \n",
      " 35  device_usage              100000 non-null  object \n",
      " 36  healthcare_access         100000 non-null  object \n",
      " 37  insurance                 100000 non-null  object \n",
      " 38  sunlight_exposure         100000 non-null  object \n",
      " 39  meals_per_day             100000 non-null  int64  \n",
      " 40  caffeine_intake           100000 non-null  object \n",
      " 41  family_history            100000 non-null  object \n",
      " 42  pet_owner                 100000 non-null  object \n",
      " 43  electrolyte_level         100000 non-null  int64  \n",
      " 44  gene_marker_flag          100000 non-null  float64\n",
      " 45  environmental_risk_score  100000 non-null  float64\n",
      " 46  daily_supplement_dosage   100000 non-null  float64\n",
      " 47  target                    100000 non-null  object \n",
      "dtypes: float64(24), int64(6), object(18)\n",
      "memory usage: 36.6+ MB\n",
      "None\n"
     ]
    }
   ],
   "source": [
    "# Show cleaned data summary\n",
    "print(\"After cleaning:\")\n",
    "print(df.info())\n"
   ]
  },
  {
   "cell_type": "code",
   "execution_count": 16,
   "id": "ecb8be1b-9a3f-4fb4-89c8-a750a9f8e0c9",
   "metadata": {},
   "outputs": [],
   "source": [
    "# Save cleaned data to new CSV (optional)\n",
    "#df.to_csv('health_lifestyle_classification_cleaned.csv', index=False)"
   ]
  },
  {
   "cell_type": "code",
   "execution_count": null,
   "id": "3a73feea-497e-4ee9-978f-eae1802a8400",
   "metadata": {},
   "outputs": [],
   "source": []
  }
 ],
 "metadata": {
  "kernelspec": {
   "display_name": "Python [conda env:base] *",
   "language": "python",
   "name": "conda-base-py"
  },
  "language_info": {
   "codemirror_mode": {
    "name": "ipython",
    "version": 3
   },
   "file_extension": ".py",
   "mimetype": "text/x-python",
   "name": "python",
   "nbconvert_exporter": "python",
   "pygments_lexer": "ipython3",
   "version": "3.13.2"
  }
 },
 "nbformat": 4,
 "nbformat_minor": 5
}
